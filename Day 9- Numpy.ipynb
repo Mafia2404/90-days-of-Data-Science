{
 "cells": [
  {
   "cell_type": "markdown",
   "id": "42e7e8a8-e08d-4c16-b314-8367b4d4dc97",
   "metadata": {},
   "source": [
    "<font color=\"blue\" size=5><b>Numpy-1</b></font>"
   ]
  },
  {
   "cell_type": "code",
   "execution_count": 1,
   "id": "27574cbd-7098-40f8-82a2-3a1485a7c0b3",
   "metadata": {},
   "outputs": [],
   "source": [
    "import numpy as np"
   ]
  },
  {
   "cell_type": "markdown",
   "id": "ae2ab22d-98e6-4f69-9bf7-3c102da2010c",
   "metadata": {},
   "source": [
    "<font color=\"red\" size=3><b>Creation of n dimentional array</b></font>"
   ]
  },
  {
   "cell_type": "code",
   "execution_count": 4,
   "id": "75816c09-2c60-487b-b4fc-fd761e8b2a50",
   "metadata": {},
   "outputs": [
    {
     "name": "stdout",
     "output_type": "stream",
     "text": [
      "<class 'numpy.ndarray'>\n",
      "[1 2 4 5]\n"
     ]
    }
   ],
   "source": [
    "# using already existing values\n",
    "l = [1,2,4,5]\n",
    "ar = np.array(l)\n",
    "print(type(ar))\n",
    "print(ar)"
   ]
  },
  {
   "cell_type": "markdown",
   "id": "b217ec30-75a2-42eb-8ff1-fa2524cc27a5",
   "metadata": {},
   "source": [
    "**creating array of particular dimention**"
   ]
  },
  {
   "cell_type": "code",
   "execution_count": 56,
   "id": "1853400f-5ebc-4bec-83f9-ea0b6e23d307",
   "metadata": {},
   "outputs": [
    {
     "data": {
      "text/plain": [
       "array([[[1, 2, 5, 4]]])"
      ]
     },
     "execution_count": 56,
     "metadata": {},
     "output_type": "execute_result"
    }
   ],
   "source": [
    "ar = np.array([1,2,5,4], ndmin=3) # ndmin creates array of a particular dimention\n",
    "ar"
   ]
  },
  {
   "cell_type": "code",
   "execution_count": 7,
   "id": "6bb76b78-d25e-40a4-9835-1593cb87618b",
   "metadata": {},
   "outputs": [
    {
     "data": {
      "text/plain": [
       "array([ 3,  4, 55,  6])"
      ]
     },
     "execution_count": 7,
     "metadata": {},
     "output_type": "execute_result"
    }
   ],
   "source": [
    "ar1 = np.asarray([3,4,55,6])\n",
    "ar1"
   ]
  },
  {
   "cell_type": "code",
   "execution_count": 8,
   "id": "6e98c436-eee8-454e-b697-c4d3b8414980",
   "metadata": {},
   "outputs": [
    {
     "data": {
      "text/plain": [
       "array([ 2,  3, 76, 45])"
      ]
     },
     "execution_count": 8,
     "metadata": {},
     "output_type": "execute_result"
    }
   ],
   "source": [
    "ar2 = np.asanyarray([2,3,76,45])\n",
    "ar2"
   ]
  },
  {
   "cell_type": "code",
   "execution_count": 39,
   "id": "68cb6a9c-aa74-46ab-80fe-545f46b29551",
   "metadata": {},
   "outputs": [
    {
     "data": {
      "text/plain": [
       "array([[[0., 0.],\n",
       "        [0., 0.],\n",
       "        [0., 0.]],\n",
       "\n",
       "       [[0., 0.],\n",
       "        [0., 0.],\n",
       "        [0., 0.]]])"
      ]
     },
     "execution_count": 39,
     "metadata": {},
     "output_type": "execute_result"
    }
   ],
   "source": [
    "# using zeros function\n",
    "ar3 = np.zeros((2,3,2)) # takes input for each dimention\n",
    "ar3"
   ]
  },
  {
   "cell_type": "code",
   "execution_count": 34,
   "id": "9e5f15c9-b2bc-4d26-bb3c-ea5eb408ded1",
   "metadata": {},
   "outputs": [
    {
     "data": {
      "text/plain": [
       "array([[1., 1., 1.],\n",
       "       [1., 1., 1.]])"
      ]
     },
     "execution_count": 34,
     "metadata": {},
     "output_type": "execute_result"
    }
   ],
   "source": [
    "# using ones function\n",
    "ar3 = np.ones((2,3))\n",
    "ar3"
   ]
  },
  {
   "cell_type": "code",
   "execution_count": 35,
   "id": "ff06a885-7097-4f63-8211-c6381077d2bd",
   "metadata": {},
   "outputs": [
    {
     "name": "stdout",
     "output_type": "stream",
     "text": [
      "[1 3 5 7 9]\n"
     ]
    }
   ],
   "source": [
    "# using arange (can take floating point values for start and end and fractional step )\n",
    "ar4 = np.arange(1,10,2) # start stop step\n",
    "print (ar4) "
   ]
  },
  {
   "cell_type": "code",
   "execution_count": 37,
   "id": "41706b36-cc50-4ccc-84b6-6a4a5f4bf75b",
   "metadata": {},
   "outputs": [
    {
     "name": "stdout",
     "output_type": "stream",
     "text": [
      "[ 1.2  1.4  1.6  1.8  2.   2.2  2.4  2.6  2.8  3.   3.2  3.4  3.6  3.8\n",
      "  4.   4.2  4.4  4.6  4.8  5.   5.2  5.4  5.6  5.8  6.   6.2  6.4  6.6\n",
      "  6.8  7.   7.2  7.4  7.6  7.8  8.   8.2  8.4  8.6  8.8  9.   9.2  9.4\n",
      "  9.6  9.8 10. ]\n"
     ]
    }
   ],
   "source": [
    "ar4 = np.arange(1.2,10.2,0.2) # start stop step\n",
    "print (ar4) "
   ]
  },
  {
   "cell_type": "code",
   "execution_count": 38,
   "id": "d5ea8d67-146e-4e32-8cbb-382618c23ebf",
   "metadata": {},
   "outputs": [
    {
     "data": {
      "text/plain": [
       "array([1.        , 1.44444444, 1.88888889, 2.33333333, 2.77777778,\n",
       "       3.22222222, 3.66666667, 4.11111111, 4.55555556, 5.        ])"
      ]
     },
     "execution_count": 38,
     "metadata": {},
     "output_type": "execute_result"
    }
   ],
   "source": [
    "# using linspace (produces n numbers between a given interval)\n",
    "ar5 = np.linspace(1,5,10)\n",
    "ar5"
   ]
  },
  {
   "cell_type": "code",
   "execution_count": 42,
   "id": "7b2a3291-f1ee-4af9-b1da-b932e4273ddc",
   "metadata": {},
   "outputs": [
    {
     "data": {
      "text/plain": [
       "array([[0.00000000e+000, 0.00000000e+000, 0.00000000e+000,\n",
       "        0.00000000e+000, 0.00000000e+000],\n",
       "       [0.00000000e+000, 0.00000000e+000, 0.00000000e+000,\n",
       "        0.00000000e+000, 0.00000000e+000],\n",
       "       [0.00000000e+000, 0.00000000e+000, 0.00000000e+000,\n",
       "        0.00000000e+000, 6.81019663e-310]])"
      ]
     },
     "execution_count": 42,
     "metadata": {},
     "output_type": "execute_result"
    }
   ],
   "source": [
    "# using empty (creates empty array)\n",
    "ar6 = np.empty((3,5)) # values are negligible\n",
    "ar6"
   ]
  },
  {
   "cell_type": "code",
   "execution_count": 43,
   "id": "d6082ac3-60c7-45e8-a970-007dd80115ab",
   "metadata": {},
   "outputs": [
    {
     "data": {
      "text/plain": [
       "array([[1., 0., 0.],\n",
       "       [0., 1., 0.],\n",
       "       [0., 0., 1.]])"
      ]
     },
     "execution_count": 43,
     "metadata": {},
     "output_type": "execute_result"
    }
   ],
   "source": [
    "# using eye(cretates identity matrix)\n",
    "ar7 = np.eye(3)\n",
    "ar7"
   ]
  },
  {
   "cell_type": "code",
   "execution_count": 44,
   "id": "917e9a76-affe-45c1-91b9-63ed9ef45dfb",
   "metadata": {},
   "outputs": [
    {
     "data": {
      "text/plain": [
       "array([[-0.20252981,  0.60262028,  0.13593732,  0.13592748],\n",
       "       [-0.8735314 ,  1.11910748, -1.37650776, -0.68069607],\n",
       "       [-1.0635352 , -0.82631843, -0.39116039, -1.0660551 ]])"
      ]
     },
     "execution_count": 44,
     "metadata": {},
     "output_type": "execute_result"
    }
   ],
   "source": [
    "# using random\n",
    "ar8 = np.random.randn(3,4) # generates data whose mean is 0  and standard deviation is 1\n",
    "print(ar8)"
   ]
  },
  {
   "cell_type": "markdown",
   "id": "eae230bd-854a-4992-aef0-c805f69de231",
   "metadata": {},
   "source": [
    "**coverting array to a dataframe**"
   ]
  },
  {
   "cell_type": "code",
   "execution_count": 45,
   "id": "66109a98-2a50-4836-a3ed-25be188f6573",
   "metadata": {},
   "outputs": [
    {
     "data": {
      "text/html": [
       "<div>\n",
       "<style scoped>\n",
       "    .dataframe tbody tr th:only-of-type {\n",
       "        vertical-align: middle;\n",
       "    }\n",
       "\n",
       "    .dataframe tbody tr th {\n",
       "        vertical-align: top;\n",
       "    }\n",
       "\n",
       "    .dataframe thead th {\n",
       "        text-align: right;\n",
       "    }\n",
       "</style>\n",
       "<table border=\"1\" class=\"dataframe\">\n",
       "  <thead>\n",
       "    <tr style=\"text-align: right;\">\n",
       "      <th></th>\n",
       "      <th>0</th>\n",
       "      <th>1</th>\n",
       "      <th>2</th>\n",
       "      <th>3</th>\n",
       "    </tr>\n",
       "  </thead>\n",
       "  <tbody>\n",
       "    <tr>\n",
       "      <th>0</th>\n",
       "      <td>-0.202530</td>\n",
       "      <td>0.602620</td>\n",
       "      <td>0.135937</td>\n",
       "      <td>0.135927</td>\n",
       "    </tr>\n",
       "    <tr>\n",
       "      <th>1</th>\n",
       "      <td>-0.873531</td>\n",
       "      <td>1.119107</td>\n",
       "      <td>-1.376508</td>\n",
       "      <td>-0.680696</td>\n",
       "    </tr>\n",
       "    <tr>\n",
       "      <th>2</th>\n",
       "      <td>-1.063535</td>\n",
       "      <td>-0.826318</td>\n",
       "      <td>-0.391160</td>\n",
       "      <td>-1.066055</td>\n",
       "    </tr>\n",
       "  </tbody>\n",
       "</table>\n",
       "</div>"
      ],
      "text/plain": [
       "          0         1         2         3\n",
       "0 -0.202530  0.602620  0.135937  0.135927\n",
       "1 -0.873531  1.119107 -1.376508 -0.680696\n",
       "2 -1.063535 -0.826318 -0.391160 -1.066055"
      ]
     },
     "execution_count": 45,
     "metadata": {},
     "output_type": "execute_result"
    }
   ],
   "source": [
    "import pandas as pd\n",
    "pd.DataFrame(ar8) # we can convert it to a data frame"
   ]
  },
  {
   "cell_type": "code",
   "execution_count": 46,
   "id": "8990dd55-f2e9-4a4a-8e35-13292d291f27",
   "metadata": {},
   "outputs": [
    {
     "name": "stdout",
     "output_type": "stream",
     "text": [
      "[[0.91345754 0.72215892 0.89802299 0.91167355]\n",
      " [0.19406823 0.58522217 0.59216447 0.30768816]\n",
      " [0.94136767 0.68786852 0.60465203 0.73314509]]\n"
     ]
    }
   ],
   "source": [
    "# using random\n",
    "ar8 = np.random.rand(3,4)\n",
    "print(ar8)"
   ]
  },
  {
   "cell_type": "markdown",
   "id": "6e71eb43-522c-42ee-bca6-d70a7bdba337",
   "metadata": {},
   "source": [
    "**reshaping an array**"
   ]
  },
  {
   "cell_type": "code",
   "execution_count": 57,
   "id": "ce698c65-1e58-4ced-987d-99dbee20db71",
   "metadata": {},
   "outputs": [
    {
     "data": {
      "text/plain": [
       "array([[91, 44,  7, 22,  7, 87],\n",
       "       [56, 37, 12, 74, 78, 51]])"
      ]
     },
     "execution_count": 57,
     "metadata": {},
     "output_type": "execute_result"
    }
   ],
   "source": [
    "ar = ar8.reshape(2,6)\n",
    "ar"
   ]
  },
  {
   "cell_type": "code",
   "execution_count": 47,
   "id": "5d81d73c-a7ca-49e9-835c-94e9c5d92732",
   "metadata": {},
   "outputs": [
    {
     "name": "stdout",
     "output_type": "stream",
     "text": [
      "[[91 44  7 22]\n",
      " [ 7 87 56 37]\n",
      " [12 74 78 51]]\n"
     ]
    }
   ],
   "source": [
    "# using random\n",
    "ar8 = np.random.randint(1,100, (3,4)) # generates integers only\n",
    "print(ar8)"
   ]
  },
  {
   "cell_type": "markdown",
   "id": "475afc9f-0ddc-40d1-9432-d056d73656ad",
   "metadata": {},
   "source": [
    "**flattening of an array**"
   ]
  },
  {
   "cell_type": "code",
   "execution_count": 59,
   "id": "45c40b19-a6c0-47cd-966c-119b16315fcc",
   "metadata": {},
   "outputs": [
    {
     "data": {
      "text/plain": [
       "array([91, 44,  7, 22,  7, 87, 56, 37, 12, 74, 78, 51])"
      ]
     },
     "execution_count": 59,
     "metadata": {},
     "output_type": "execute_result"
    }
   ],
   "source": [
    "ar8.reshape(-1)"
   ]
  },
  {
   "cell_type": "code",
   "execution_count": 9,
   "id": "a0c91eb4-4172-4794-987a-f04fc8104e72",
   "metadata": {},
   "outputs": [
    {
     "data": {
      "text/plain": [
       "matrix([[1]])"
      ]
     },
     "execution_count": 9,
     "metadata": {},
     "output_type": "execute_result"
    }
   ],
   "source": [
    "# usimg matrix (by default creates 2D array)\n",
    "b = np.matrix(1)\n",
    "b"
   ]
  },
  {
   "cell_type": "markdown",
   "id": "75d280f0-aa83-4cc5-b8c5-480a83efefb0",
   "metadata": {},
   "source": [
    "<font color=\"red\" size=3><b>Indexing and slicing </b></font>"
   ]
  },
  {
   "cell_type": "code",
   "execution_count": 49,
   "id": "37153b38-6b08-45e2-b09c-07e1851e571f",
   "metadata": {},
   "outputs": [
    {
     "data": {
      "text/plain": [
       "array([[21,  5, 58, 16],\n",
       "       [11, 21, 23, 28],\n",
       "       [55, 26, 19, 27]])"
      ]
     },
     "execution_count": 49,
     "metadata": {},
     "output_type": "execute_result"
    }
   ],
   "source": [
    "a1 = np.random.randint(5,60,(3,4))\n",
    "a1"
   ]
  },
  {
   "cell_type": "code",
   "execution_count": 50,
   "id": "40fe8c35-656b-41f0-adea-8f47b59b1e1c",
   "metadata": {},
   "outputs": [
    {
     "data": {
      "text/plain": [
       "28"
      ]
     },
     "execution_count": 50,
     "metadata": {},
     "output_type": "execute_result"
    }
   ],
   "source": [
    "a1[1][3]"
   ]
  },
  {
   "cell_type": "code",
   "execution_count": 51,
   "id": "de21bc8d-fff6-434a-9452-09d2dbf8d917",
   "metadata": {},
   "outputs": [
    {
     "data": {
      "text/plain": [
       "28"
      ]
     },
     "execution_count": 51,
     "metadata": {},
     "output_type": "execute_result"
    }
   ],
   "source": [
    "a1[1,3]"
   ]
  },
  {
   "cell_type": "code",
   "execution_count": 52,
   "id": "caff777a-bc0f-4b89-8749-6033d3054195",
   "metadata": {},
   "outputs": [
    {
     "data": {
      "text/plain": [
       "array([[ 5, 58],\n",
       "       [21, 23]])"
      ]
     },
     "execution_count": 52,
     "metadata": {},
     "output_type": "execute_result"
    }
   ],
   "source": [
    "a1[0:2,1:3]"
   ]
  },
  {
   "cell_type": "code",
   "execution_count": 54,
   "id": "31dd1762-c9cf-407d-b938-99f2ae2dec9b",
   "metadata": {},
   "outputs": [
    {
     "data": {
      "text/plain": [
       "array([58, 55])"
      ]
     },
     "execution_count": 54,
     "metadata": {},
     "output_type": "execute_result"
    }
   ],
   "source": [
    "a1[a1>50]"
   ]
  },
  {
   "cell_type": "markdown",
   "id": "0467f87d-10c8-47be-ad9b-22b22c8e6957",
   "metadata": {},
   "source": [
    "<font color=\"red\" size=3><b>Copy (Deep copy)</b></font>"
   ]
  },
  {
   "cell_type": "code",
   "execution_count": 10,
   "id": "92803e9f-f303-4574-8a43-b898cc281b8b",
   "metadata": {},
   "outputs": [
    {
     "name": "stdout",
     "output_type": "stream",
     "text": [
      "[9 8 7 6]\n",
      "[9 8 7 6]\n"
     ]
    }
   ],
   "source": [
    "a1 = np.array([9,8,7,6])\n",
    "a2 = a1 # shallow copy\n",
    "print(a1)\n",
    "print(a2)"
   ]
  },
  {
   "cell_type": "code",
   "execution_count": 11,
   "id": "5fdb548c-67cc-4b43-b51d-c412addb5a0e",
   "metadata": {},
   "outputs": [
    {
     "data": {
      "text/plain": [
       "array([9, 8, 0, 6])"
      ]
     },
     "execution_count": 11,
     "metadata": {},
     "output_type": "execute_result"
    }
   ],
   "source": [
    "a1[2] = 0\n",
    "a1"
   ]
  },
  {
   "cell_type": "code",
   "execution_count": 12,
   "id": "eec66953-6f91-4083-aab2-1fd3ee467153",
   "metadata": {},
   "outputs": [
    {
     "data": {
      "text/plain": [
       "array([9, 8, 0, 6])"
      ]
     },
     "execution_count": 12,
     "metadata": {},
     "output_type": "execute_result"
    }
   ],
   "source": [
    "a2 # any changes in a will be reflected "
   ]
  },
  {
   "cell_type": "code",
   "execution_count": 13,
   "id": "dd7995bc-d4b4-4e3c-a47e-2b7c01234c74",
   "metadata": {},
   "outputs": [
    {
     "name": "stdout",
     "output_type": "stream",
     "text": [
      "[9 8 7 6]\n",
      "[9 8 7 6]\n"
     ]
    }
   ],
   "source": [
    "c1 = np.array([9,8,7,6])\n",
    "c2 = np.copy(c1)\n",
    "print(c1)\n",
    "print(c2)"
   ]
  },
  {
   "cell_type": "code",
   "execution_count": 14,
   "id": "da5d7dbc-fb4b-4601-a7e2-332bd2b02f4c",
   "metadata": {},
   "outputs": [
    {
     "name": "stdout",
     "output_type": "stream",
     "text": [
      "[0 8 7 6]\n",
      "[9 8 7 6]\n"
     ]
    }
   ],
   "source": [
    "c1[0] = 0\n",
    "print(c1)\n",
    "print(c2)"
   ]
  },
  {
   "cell_type": "markdown",
   "id": "e41a1b5e-3b58-46b2-a7d0-4ff7534e3932",
   "metadata": {},
   "source": [
    "<font color=\"red\" size=3><b>Other Functions </b></font>"
   ]
  },
  {
   "cell_type": "code",
   "execution_count": 15,
   "id": "86547a93-bd48-43b8-b9f2-fd78bf54d177",
   "metadata": {},
   "outputs": [
    {
     "data": {
      "text/plain": [
       "array([[ True, False, False],\n",
       "       [False,  True, False],\n",
       "       [False, False,  True]])"
      ]
     },
     "execution_count": 15,
     "metadata": {},
     "output_type": "execute_result"
    }
   ],
   "source": [
    "np.fromfunction(lambda i,j: i==j, (3,3))"
   ]
  },
  {
   "cell_type": "code",
   "execution_count": 16,
   "id": "b7b41b0e-217f-4196-9c39-6bc52ed068a2",
   "metadata": {},
   "outputs": [
    {
     "data": {
      "text/plain": [
       "array([[0., 0., 0.],\n",
       "       [0., 1., 2.],\n",
       "       [0., 2., 4.]])"
      ]
     },
     "execution_count": 16,
     "metadata": {},
     "output_type": "execute_result"
    }
   ],
   "source": [
    "np.fromfunction(lambda i,j: i*j, (3,3))"
   ]
  },
  {
   "cell_type": "code",
   "execution_count": 19,
   "id": "b8bb4242-39c1-432c-a523-e25bd3103cdc",
   "metadata": {},
   "outputs": [],
   "source": [
    "iterable = (i*i for i in range(5))"
   ]
  },
  {
   "cell_type": "code",
   "execution_count": 21,
   "id": "53e979f4-c870-42ea-91e6-c4ffb12cb4d8",
   "metadata": {},
   "outputs": [
    {
     "data": {
      "text/plain": [
       "array([ 0.,  1.,  4.,  9., 16.])"
      ]
     },
     "execution_count": 21,
     "metadata": {},
     "output_type": "execute_result"
    }
   ],
   "source": [
    "np.fromiter(iterable, float)"
   ]
  },
  {
   "cell_type": "code",
   "execution_count": 25,
   "id": "86333d76-8249-4e10-873e-f4fa1e08384f",
   "metadata": {},
   "outputs": [
    {
     "data": {
      "text/plain": [
       "array([123., 234.])"
      ]
     },
     "execution_count": 25,
     "metadata": {},
     "output_type": "execute_result"
    }
   ],
   "source": [
    "np.fromstring('123 234', sep=' ')"
   ]
  },
  {
   "cell_type": "markdown",
   "id": "6bdd53f4-6bc4-42b6-b3ff-a75f29e7191a",
   "metadata": {},
   "source": [
    "<font color=\"red\" size=3><b>Attributes of ndarray</b></font>"
   ]
  },
  {
   "cell_type": "code",
   "execution_count": 26,
   "id": "c2a60c9b-8bd1-43c4-90e8-79807c8f099b",
   "metadata": {},
   "outputs": [
    {
     "data": {
      "text/plain": [
       "(5,)"
      ]
     },
     "execution_count": 26,
     "metadata": {},
     "output_type": "execute_result"
    }
   ],
   "source": [
    "x = np.array([2,3,4,57,8])\n",
    "x.shape # size of array in each dimension"
   ]
  },
  {
   "cell_type": "code",
   "execution_count": 27,
   "id": "394306ea-1346-4a22-9903-eedb5826a426",
   "metadata": {},
   "outputs": [
    {
     "data": {
      "text/plain": [
       "5"
      ]
     },
     "execution_count": 27,
     "metadata": {},
     "output_type": "execute_result"
    }
   ],
   "source": [
    "x.size # total number of elements"
   ]
  },
  {
   "cell_type": "code",
   "execution_count": 28,
   "id": "de5e1350-bad6-438b-a4a0-878f20fe240d",
   "metadata": {},
   "outputs": [
    {
     "data": {
      "text/plain": [
       "1"
      ]
     },
     "execution_count": 28,
     "metadata": {},
     "output_type": "execute_result"
    }
   ],
   "source": [
    "x.ndim # the no of axes of array"
   ]
  },
  {
   "cell_type": "code",
   "execution_count": 29,
   "id": "339c66e8-f176-4c76-bc24-477dd30c4392",
   "metadata": {},
   "outputs": [
    {
     "data": {
      "text/plain": [
       "dtype('int32')"
      ]
     },
     "execution_count": 29,
     "metadata": {},
     "output_type": "execute_result"
    }
   ],
   "source": [
    "x.dtype"
   ]
  },
  {
   "cell_type": "markdown",
   "id": "ed285ac7-5121-4aa3-8d03-8b45dad60c52",
   "metadata": {},
   "source": [
    "<font color=\"red\" size=3><b>Operations on ndarray</b></font>"
   ]
  },
  {
   "cell_type": "code",
   "execution_count": 60,
   "id": "ebb808eb-3352-45c5-9f76-d04aad002ae0",
   "metadata": {},
   "outputs": [
    {
     "data": {
      "text/plain": [
       "array([[1, 2, 3],\n",
       "       [4, 5, 6],\n",
       "       [7, 8, 9]])"
      ]
     },
     "execution_count": 60,
     "metadata": {},
     "output_type": "execute_result"
    }
   ],
   "source": [
    "a1 = np.array([1,2,3,4,5,6,7,8,9])\n",
    "a1 = a1.reshape((3,3))\n",
    "a1"
   ]
  },
  {
   "cell_type": "code",
   "execution_count": 61,
   "id": "4e9ec3c0-4b71-41a2-9dbc-3a50ff909274",
   "metadata": {},
   "outputs": [
    {
     "data": {
      "text/plain": [
       "array([[2, 4, 1],\n",
       "       [6, 8, 7],\n",
       "       [9, 5, 4]])"
      ]
     },
     "execution_count": 61,
     "metadata": {},
     "output_type": "execute_result"
    }
   ],
   "source": [
    "a2 = np.array([2,4,1,6,8,7,9,5,4])\n",
    "a2 = a2.reshape((3,3))\n",
    "a2"
   ]
  },
  {
   "cell_type": "code",
   "execution_count": 62,
   "id": "fbcac502-46bc-48f7-a7a2-4038598e5b3c",
   "metadata": {},
   "outputs": [
    {
     "data": {
      "text/plain": [
       "array([[ 41,  35,  27],\n",
       "       [ 92,  86,  63],\n",
       "       [143, 137,  99]])"
      ]
     },
     "execution_count": 62,
     "metadata": {},
     "output_type": "execute_result"
    }
   ],
   "source": [
    "# matrix multiplication\n",
    "a1@a2"
   ]
  },
  {
   "cell_type": "code",
   "execution_count": 63,
   "id": "7a0aaa39-b0fc-471e-a151-517de58b6266",
   "metadata": {},
   "outputs": [
    {
     "data": {
      "text/plain": [
       "array([[ 2,  8,  3],\n",
       "       [24, 40, 42],\n",
       "       [63, 40, 36]])"
      ]
     },
     "execution_count": 63,
     "metadata": {},
     "output_type": "execute_result"
    }
   ],
   "source": [
    "# multiplication \n",
    "a1*a2"
   ]
  },
  {
   "cell_type": "code",
   "execution_count": 64,
   "id": "66e6587a-57c1-449b-a0af-236d8bd88f30",
   "metadata": {},
   "outputs": [
    {
     "data": {
      "text/plain": [
       "array([[ 3,  6,  4],\n",
       "       [10, 13, 13],\n",
       "       [16, 13, 13]])"
      ]
     },
     "execution_count": 64,
     "metadata": {},
     "output_type": "execute_result"
    }
   ],
   "source": [
    "# addition\n",
    "a1+a2"
   ]
  },
  {
   "cell_type": "code",
   "execution_count": 65,
   "id": "1ce1327a-9189-4f8d-a275-ad07ab46eb94",
   "metadata": {},
   "outputs": [
    {
     "data": {
      "text/plain": [
       "array([[-1, -2,  2],\n",
       "       [-2, -3, -1],\n",
       "       [-2,  3,  5]])"
      ]
     },
     "execution_count": 65,
     "metadata": {},
     "output_type": "execute_result"
    }
   ],
   "source": [
    "# subtraction\n",
    "a1-a2"
   ]
  },
  {
   "cell_type": "code",
   "execution_count": 66,
   "id": "7ecb0bfe-513e-49de-a2ab-f3acdb8610d9",
   "metadata": {},
   "outputs": [
    {
     "data": {
      "text/plain": [
       "array([[0.5       , 0.5       , 3.        ],\n",
       "       [0.66666667, 0.625     , 0.85714286],\n",
       "       [0.77777778, 1.6       , 2.25      ]])"
      ]
     },
     "execution_count": 66,
     "metadata": {},
     "output_type": "execute_result"
    }
   ],
   "source": [
    "# division\n",
    "a1/a2"
   ]
  },
  {
   "cell_type": "code",
   "execution_count": 87,
   "id": "5d818062-d2a3-412b-8665-065a3bd75cee",
   "metadata": {},
   "outputs": [
    {
     "data": {
      "text/plain": [
       "array([[1.        , 1.41421356, 1.73205081],\n",
       "       [2.        , 2.23606798, 2.44948974],\n",
       "       [2.64575131, 2.82842712, 3.        ]])"
      ]
     },
     "execution_count": 87,
     "metadata": {},
     "output_type": "execute_result"
    }
   ],
   "source": [
    "# square root\n",
    "np.sqrt(a1)"
   ]
  },
  {
   "cell_type": "markdown",
   "id": "ab31ce40-34f4-4955-afad-e93d4ec3dbac",
   "metadata": {},
   "source": [
    "<font color=\"red\" size=3><b>Broadcasting in numpy</b></font>"
   ]
  },
  {
   "cell_type": "code",
   "execution_count": 67,
   "id": "111f999b-c865-49ee-815f-621c3c689107",
   "metadata": {},
   "outputs": [
    {
     "data": {
      "text/plain": [
       "array([2, 3, 4, 5])"
      ]
     },
     "execution_count": 67,
     "metadata": {},
     "output_type": "execute_result"
    }
   ],
   "source": [
    "b = np.array([2,3,4,5])\n",
    "b"
   ]
  },
  {
   "cell_type": "code",
   "execution_count": 68,
   "id": "bac46352-fe3f-4a33-b3fc-8d1def969ba7",
   "metadata": {},
   "outputs": [
    {
     "data": {
      "text/plain": [
       "array([ 4,  6,  8, 10])"
      ]
     },
     "execution_count": 68,
     "metadata": {},
     "output_type": "execute_result"
    }
   ],
   "source": [
    "b*2 # all elements of b gets multiplied by 2"
   ]
  },
  {
   "cell_type": "code",
   "execution_count": 69,
   "id": "0307a3b1-9331-40bd-9ea9-67454e22dedc",
   "metadata": {},
   "outputs": [
    {
     "data": {
      "text/plain": [
       "array([5, 6, 7, 8])"
      ]
     },
     "execution_count": 69,
     "metadata": {},
     "output_type": "execute_result"
    }
   ],
   "source": [
    "b+3"
   ]
  },
  {
   "cell_type": "code",
   "execution_count": 70,
   "id": "9957ad61-5ee5-49cd-8310-070ecb26e1ff",
   "metadata": {},
   "outputs": [
    {
     "data": {
      "text/plain": [
       "array([-2, -1,  0,  1])"
      ]
     },
     "execution_count": 70,
     "metadata": {},
     "output_type": "execute_result"
    }
   ],
   "source": [
    "b-4"
   ]
  },
  {
   "cell_type": "code",
   "execution_count": 71,
   "id": "6c3cb95f-7b84-4d92-89eb-c1d476496cab",
   "metadata": {},
   "outputs": [
    {
     "name": "stderr",
     "output_type": "stream",
     "text": [
      "C:\\Users\\Paulami Maitra\\AppData\\Local\\Temp\\ipykernel_4016\\2933543726.py:1: RuntimeWarning: divide by zero encountered in divide\n",
      "  b/0\n"
     ]
    },
    {
     "data": {
      "text/plain": [
       "array([inf, inf, inf, inf])"
      ]
     },
     "execution_count": 71,
     "metadata": {},
     "output_type": "execute_result"
    }
   ],
   "source": [
    "b/0"
   ]
  },
  {
   "cell_type": "code",
   "execution_count": 72,
   "id": "eaec8306-da41-49e8-a6c2-c0dfbcb9690a",
   "metadata": {},
   "outputs": [
    {
     "data": {
      "text/plain": [
       "array([ 4,  9, 16, 25])"
      ]
     },
     "execution_count": 72,
     "metadata": {},
     "output_type": "execute_result"
    }
   ],
   "source": [
    "b**2"
   ]
  },
  {
   "cell_type": "code",
   "execution_count": 78,
   "id": "b305773c-7ad9-4739-8bc5-1c59fb9f9052",
   "metadata": {},
   "outputs": [
    {
     "name": "stdout",
     "output_type": "stream",
     "text": [
      "[[ 1  2  3  4]\n",
      " [ 5  6  7  8]\n",
      " [ 9 10 11 12]]\n",
      "[2 3 4 5]\n"
     ]
    }
   ],
   "source": [
    "b1 = np.arange(1,13)\n",
    "b1 = b1.reshape((3,4))\n",
    "print(b1)\n",
    "print(b)"
   ]
  },
  {
   "cell_type": "code",
   "execution_count": 79,
   "id": "61519c5e-6cf2-4843-af39-29363b1548ee",
   "metadata": {},
   "outputs": [
    {
     "data": {
      "text/plain": [
       "array([[ 3,  5,  7,  9],\n",
       "       [ 7,  9, 11, 13],\n",
       "       [11, 13, 15, 17]])"
      ]
     },
     "execution_count": 79,
     "metadata": {},
     "output_type": "execute_result"
    }
   ],
   "source": [
    "b1+b"
   ]
  }
 ],
 "metadata": {
  "kernelspec": {
   "display_name": "Python 3 (ipykernel)",
   "language": "python",
   "name": "python3"
  },
  "language_info": {
   "codemirror_mode": {
    "name": "ipython",
    "version": 3
   },
   "file_extension": ".py",
   "mimetype": "text/x-python",
   "name": "python",
   "nbconvert_exporter": "python",
   "pygments_lexer": "ipython3",
   "version": "3.11.7"
  }
 },
 "nbformat": 4,
 "nbformat_minor": 5
}
