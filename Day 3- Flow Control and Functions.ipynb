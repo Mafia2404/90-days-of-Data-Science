{
 "cells": [
  {
   "cell_type": "markdown",
   "id": "3c1363fd-109f-4926-8ac4-7567883d83d6",
   "metadata": {},
   "source": [
    "<font color=\"blue\" size=5><b>Python Basics- 3</b></font>"
   ]
  },
  {
   "cell_type": "markdown",
   "id": "0af49cd3-7b3f-4d25-a0cd-a9932e60e55a",
   "metadata": {},
   "source": [
    "<font color=\"red\" size=3><b>Flow Control</b></font>"
   ]
  },
  {
   "cell_type": "markdown",
   "id": "6b3a5223-d6a1-47cc-8a69-93bc52366f19",
   "metadata": {},
   "source": [
    "**Conditional Statement**"
   ]
  },
  {
   "cell_type": "code",
   "execution_count": 1,
   "id": "23fe8a31-a2ab-48ea-abcc-55d04287a61f",
   "metadata": {},
   "outputs": [
    {
     "name": "stdin",
     "output_type": "stream",
     "text": [
      "enter one: burger/broccoli:-  burger\n"
     ]
    },
    {
     "name": "stdout",
     "output_type": "stream",
     "text": [
      "Paul is happy\n"
     ]
    }
   ],
   "source": [
    "# if statement\n",
    "food = input (\"enter one: burger/broccoli:- \")\n",
    "if (food == 'burger'):\n",
    "    print(\"Paul is happy\")\n",
    "elif (food == 'broccoli'):\n",
    "    print(\"Paul is sad\")\n",
    "else:\n",
    "    print (\"Paul is annoyed\")"
   ]
  },
  {
   "cell_type": "code",
   "execution_count": 2,
   "id": "8640cb17-cab0-4122-872b-2de02aa84323",
   "metadata": {},
   "outputs": [
    {
     "name": "stdin",
     "output_type": "stream",
     "text": [
      "Enter a number between 0 to 999:  678\n"
     ]
    },
    {
     "name": "stdout",
     "output_type": "stream",
     "text": [
      "3 digits\n"
     ]
    }
   ],
   "source": [
    "# number has how many digits \n",
    "num = int (input (\"Enter a number between 0 to 999: \"))\n",
    "if (9<num<=99):\n",
    "    print(\"2 digits\")\n",
    "elif (99<num<=999):  # and can also be used\n",
    "    print(\"3 digits\")\n",
    "else:\n",
    "    print(\"one digit\")\n",
    "    "
   ]
  },
  {
   "cell_type": "markdown",
   "id": "53a0f5a0-8610-42e3-9735-6b87739c965c",
   "metadata": {},
   "source": [
    "**Loop**"
   ]
  },
  {
   "cell_type": "code",
   "execution_count": 6,
   "id": "ed34e240-4870-4e1a-9513-48dbbd91213f",
   "metadata": {},
   "outputs": [
    {
     "name": "stdout",
     "output_type": "stream",
     "text": [
      "hello 0\n",
      "hello 1\n",
      "hello 2\n",
      "hello 3\n",
      "hello 4\n"
     ]
    }
   ],
   "source": [
    "# for loop\n",
    "for i in range(5): # range generates numbers from 0 to n-1\n",
    "    print(\"hello\", i)"
   ]
  },
  {
   "cell_type": "code",
   "execution_count": 8,
   "id": "be3128e2-8a05-4693-b26a-95a04ff8abfb",
   "metadata": {},
   "outputs": [
    {
     "name": "stdout",
     "output_type": "stream",
     "text": [
      "Hiii!\n",
      "Hiii!\n",
      "Hiii!\n",
      "Hiii!\n",
      "Hiii!\n",
      "This gets executed only if 'for' terminates naturally\n"
     ]
    }
   ],
   "source": [
    "for i in range(1,6):\n",
    "    print(\"Hiii!\")\n",
    "else:\n",
    "    print(\"This gets executed only if 'for' terminates naturally\")"
   ]
  },
  {
   "cell_type": "code",
   "execution_count": 5,
   "id": "07cd4771-4ac0-4941-b8d8-2db9194c995d",
   "metadata": {},
   "outputs": [
    {
     "name": "stdout",
     "output_type": "stream",
     "text": [
      "8\n",
      "7\n",
      "6\n",
      "5\n",
      "4\n",
      "3\n",
      "2\n",
      "1\n",
      "Else condition is not mandatory\n"
     ]
    }
   ],
   "source": [
    "# while loop - event controlled \n",
    "temp = 8\n",
    "while (temp > 0):\n",
    "    print (temp); temp = temp -1 \n",
    "else:\n",
    "    print(\"Else condition is not mandatory\") #gets executed when the condition fails\n",
    "    "
   ]
  },
  {
   "cell_type": "markdown",
   "id": "2766235b-69be-4b2b-abe4-7b676544b590",
   "metadata": {},
   "source": [
    "**Loop control statements**"
   ]
  },
  {
   "cell_type": "code",
   "execution_count": 11,
   "id": "4d79cdb9-03ee-49b1-91a1-4b503948e69b",
   "metadata": {},
   "outputs": [
    {
     "name": "stdout",
     "output_type": "stream",
     "text": [
      "1\n",
      "23\n"
     ]
    }
   ],
   "source": [
    "# break\n",
    "for i in [1,23,45,78]:\n",
    "    if(i%5==0):\n",
    "        break\n",
    "    print(i)"
   ]
  },
  {
   "cell_type": "code",
   "execution_count": 12,
   "id": "19e1263c-8110-4d21-b17f-08b2e1a9445b",
   "metadata": {},
   "outputs": [
    {
     "name": "stdout",
     "output_type": "stream",
     "text": [
      "1\n",
      "23\n",
      "78\n"
     ]
    }
   ],
   "source": [
    "# continue\n",
    "for i in [1,23,45,78]:\n",
    "    if(i%5==0):\n",
    "        continue\n",
    "    print(i)"
   ]
  },
  {
   "cell_type": "code",
   "execution_count": 13,
   "id": "2312b65e-de63-4d12-852f-2c554072aa92",
   "metadata": {},
   "outputs": [
    {
     "name": "stdout",
     "output_type": "stream",
     "text": [
      "1\n",
      "23\n",
      "45\n",
      "78\n"
     ]
    }
   ],
   "source": [
    "# pass\n",
    "for i in [1,23,45,78]:\n",
    "    if(i%5==0):\n",
    "        pass\n",
    "    print(i)"
   ]
  },
  {
   "cell_type": "markdown",
   "id": "923a0c22-37ee-4664-a4ab-48d66bf51a8a",
   "metadata": {},
   "source": [
    "<font color=\"red\" size=3><b>Functions</b></font>"
   ]
  },
  {
   "cell_type": "code",
   "execution_count": 14,
   "id": "d921eba2-797a-4b7f-a2bc-81e8f9b8f09e",
   "metadata": {},
   "outputs": [
    {
     "name": "stdout",
     "output_type": "stream",
     "text": [
      "Hello World\n"
     ]
    }
   ],
   "source": [
    "# without arguments\n",
    "def greet():\n",
    "    print(\"Hello World\")\n",
    "greet()"
   ]
  },
  {
   "cell_type": "code",
   "execution_count": 19,
   "id": "980504cb-f366-4cff-87d8-9f4ac394b61b",
   "metadata": {},
   "outputs": [
    {
     "name": "stdout",
     "output_type": "stream",
     "text": [
      "Hello Paul and Misti\n",
      "Hello Misti and Paul\n"
     ]
    }
   ],
   "source": [
    "# with arguments\n",
    "def greet(a,b):\n",
    "    print(f\"Hello {a} and {b}\")\n",
    "greet(\"Paul\",\"Misti\")\n",
    "greet(\"Misti\",\"Paul\")"
   ]
  },
  {
   "cell_type": "code",
   "execution_count": 17,
   "id": "d958641e-3d9a-419a-aef2-043e018b441d",
   "metadata": {},
   "outputs": [
    {
     "name": "stdout",
     "output_type": "stream",
     "text": [
      "Your substring is: app\n"
     ]
    }
   ],
   "source": [
    "# keyword arguments\n",
    "def extractSub(start,stop,string):\n",
    "    print(\"Your substring is:\",string[start:stop]) \n",
    "extractSub(string=\"apple\",stop=3,start=0) # the order/sequence of the argument doesn't matter "
   ]
  },
  {
   "cell_type": "code",
   "execution_count": 16,
   "id": "090c5a8f-23d7-4ca8-8090-fc0595736b9b",
   "metadata": {},
   "outputs": [
    {
     "name": "stdout",
     "output_type": "stream",
     "text": [
      "Hello Paul ans Misti\n",
      "Hello Paul ans Ayanokoji\n"
     ]
    }
   ],
   "source": [
    "# default arguments\n",
    "def greet(a,b=\"Misti\"):\n",
    "    print(f\"Hello {a} ans {b}\")\n",
    "greet(\"Paul\")\n",
    "greet(\"Paul\",\"Ayanokoji\")"
   ]
  },
  {
   "cell_type": "code",
   "execution_count": 24,
   "id": "1187c84b-ceb2-401e-8fbc-48f62d52c32d",
   "metadata": {},
   "outputs": [
    {
     "name": "stdout",
     "output_type": "stream",
     "text": [
      "The products purchased are:  milk \n",
      "The products purchased are:  milk chips apples cookies \n",
      "The products purchased are:  milk flowers toys \n"
     ]
    }
   ],
   "source": [
    "# variable length arguments \n",
    "def purchaseInfo(*products):\n",
    "    print(\"The products purchased are: \",end=\" \")\n",
    "    for i in products:\n",
    "        print (i, end = \" \")\n",
    "    print()\n",
    "    return \n",
    "purchaseInfo(\"milk\")\n",
    "purchaseInfo(\"milk\", \"chips\", \"apples\", \"cookies\")\n",
    "purchaseInfo(\"milk\", \"flowers\", \"toys\")"
   ]
  },
  {
   "cell_type": "code",
   "execution_count": 25,
   "id": "b20c8724-47aa-4061-8376-336648ce3197",
   "metadata": {},
   "outputs": [
    {
     "name": "stdout",
     "output_type": "stream",
     "text": [
      "Hello!\n"
     ]
    }
   ],
   "source": [
    "# function passed as an argument\n",
    "def greet():\n",
    "    return \"Hello!\"\n",
    "\n",
    "def call_func(func):\n",
    "    return func()\n",
    "\n",
    "# Passing the greet function as an argument to call_func\n",
    "result=call_func(greet)\n",
    "print(result)  "
   ]
  },
  {
   "cell_type": "markdown",
   "id": "01be470f-52bc-4806-9acc-33b0d77f2413",
   "metadata": {},
   "source": [
    "**Lambda function**"
   ]
  },
  {
   "cell_type": "code",
   "execution_count": 28,
   "id": "5840ae21-e465-49c1-bf81-2a73b45fe5ef",
   "metadata": {},
   "outputs": [
    {
     "name": "stdout",
     "output_type": "stream",
     "text": [
      "5\n",
      "<class 'function'>\n",
      "True\n"
     ]
    }
   ],
   "source": [
    "#lambda functions \n",
    "# In Python are small anonymous functions defined using the lambda keyword. They can have any number of arguments,but only one expression.\n",
    "\n",
    "def add(x,y):\n",
    "    return x+y\n",
    "\n",
    "# by lambda function:\n",
    "sum=lambda x,y: x+y \n",
    "print(sum(2,3))\n",
    "\n",
    "print(type(add)); print (type(add) == type(sum))"
   ]
  },
  {
   "cell_type": "code",
   "execution_count": 31,
   "id": "03e41be8-ed35-4774-9b23-3d87dfb848cd",
   "metadata": {},
   "outputs": [
    {
     "name": "stdout",
     "output_type": "stream",
     "text": [
      "30\n"
     ]
    }
   ],
   "source": [
    "def func1(a):\n",
    "    return lambda b: a+b\n",
    "x=func1(10) # x acts as a variable here; in Python everything is an object (a is being passed)\n",
    "print(x(20)) # x acts as a function here (b is being passed)\n"
   ]
  },
  {
   "cell_type": "markdown",
   "id": "83efb993-152d-41a5-864e-90c465fe4961",
   "metadata": {},
   "source": [
    "**Local and global scope**"
   ]
  },
  {
   "cell_type": "code",
   "execution_count": 32,
   "id": "f3fd3758-e04d-467e-ba8e-553e21ed1056",
   "metadata": {},
   "outputs": [
    {
     "name": "stdout",
     "output_type": "stream",
     "text": [
      "10\n",
      "This is function's a: 20\n"
     ]
    }
   ],
   "source": [
    "a=10 \n",
    "def func ():\n",
    "    a=20\n",
    "    print(\"This is function's a:\",a)\n",
    "print(a)\n",
    "func()"
   ]
  },
  {
   "cell_type": "code",
   "execution_count": 33,
   "id": "92d7258e-09ff-4f91-abb7-276e19fa481a",
   "metadata": {},
   "outputs": [
    {
     "name": "stdout",
     "output_type": "stream",
     "text": [
      "25\n",
      "25\n"
     ]
    }
   ],
   "source": [
    "#Global keyword\n",
    "a=20\n",
    "def sample():\n",
    "    global a # accessing global variable in local scope\n",
    "    a=a+5\n",
    "    print (a)\n",
    "sample()\n",
    "print (a)"
   ]
  },
  {
   "cell_type": "code",
   "execution_count": 34,
   "id": "f64b180a-e96b-423a-9742-da3e849fd75e",
   "metadata": {},
   "outputs": [
    {
     "name": "stdout",
     "output_type": "stream",
     "text": [
      "['1', '2', '3', '4', '5']\n",
      "[1, 2, 3, 4, 5]\n"
     ]
    }
   ],
   "source": [
    "# map function: applies the function to all elements of iterable and returns an object\n",
    "numbers_as_strings = [\"1\", \"2\", \"3\", \"4\", \"5\"]\n",
    "numbers_as_integers = list(map(int, numbers_as_strings)) #int is a function\n",
    "print(numbers_as_strings)\n",
    "print(numbers_as_integers)"
   ]
  },
  {
   "cell_type": "code",
   "execution_count": 35,
   "id": "e3afcba4-b08c-4e63-8848-a4ac7be5741c",
   "metadata": {},
   "outputs": [
    {
     "name": "stdout",
     "output_type": "stream",
     "text": [
      "[2, 4, 6]\n"
     ]
    }
   ],
   "source": [
    "# filter function\n",
    "numbers= [1, 2, 3, 4, 5, 6]\n",
    "even_numbers = list(filter(lambda x: x % 2 == 0, numbers))\n",
    "\n",
    "print(even_numbers) "
   ]
  },
  {
   "cell_type": "code",
   "execution_count": null,
   "id": "f5b704c4-ac03-4652-aade-1c470daa9b40",
   "metadata": {},
   "outputs": [],
   "source": [
    "# reduce function: To apply a rolling computation to sequential pairs of values.\n",
    "\n",
    "from functools import reduce\n",
    "# Sum all numbers in a list\n",
    "numbers = [1, 2, 3, 4]\n",
    "sum_numbers = reduce(lambda x, y: x + y, numbers)\n",
    "\n",
    "print(sum_numbers)  # Output: 10"
   ]
  }
 ],
 "metadata": {
  "kernelspec": {
   "display_name": "Python 3 (ipykernel)",
   "language": "python",
   "name": "python3"
  },
  "language_info": {
   "codemirror_mode": {
    "name": "ipython",
    "version": 3
   },
   "file_extension": ".py",
   "mimetype": "text/x-python",
   "name": "python",
   "nbconvert_exporter": "python",
   "pygments_lexer": "ipython3",
   "version": "3.11.7"
  }
 },
 "nbformat": 4,
 "nbformat_minor": 5
}
