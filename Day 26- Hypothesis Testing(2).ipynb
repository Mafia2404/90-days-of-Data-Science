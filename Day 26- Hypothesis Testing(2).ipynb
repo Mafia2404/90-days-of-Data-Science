{
 "cells": [
  {
   "cell_type": "markdown",
   "id": "63e1f668-3be0-44b3-bf08-95b640b7919f",
   "metadata": {},
   "source": [
    "<font color=\"blue\" size=5><b>Hypothesis testing using 2 sample T-test</b></font>"
   ]
  },
  {
   "cell_type": "code",
   "execution_count": 15,
   "id": "b23bc5af-975a-40ea-9f5a-50ffe1001e08",
   "metadata": {},
   "outputs": [],
   "source": [
    "import pandas as pd\n",
    "import numpy as np\n",
    "import seaborn as sns\n",
    "from scipy.stats import shapiro\n",
    "from scipy.stats import levene"
   ]
  },
  {
   "cell_type": "code",
   "execution_count": 2,
   "id": "b90ef21f-e194-452f-af5d-473e03acf45c",
   "metadata": {},
   "outputs": [],
   "source": [
    "train = pd.read_csv('train_clean.csv')\n",
    "test = pd.read_csv('test_clean.csv')"
   ]
  },
  {
   "cell_type": "code",
   "execution_count": 12,
   "id": "3dba31d6-230a-4628-9ddd-301425ee9e5e",
   "metadata": {},
   "outputs": [],
   "source": [
    "# this is population data\n",
    "df = pd.concat([train, test])\n",
    "pop_male = df[df['Sex']=='male'].Age\n",
    "pop_female = df[df['Sex']=='female'].Age"
   ]
  },
  {
   "cell_type": "code",
   "execution_count": 19,
   "id": "35a04100-7994-4043-86b2-1f84bc6e806e",
   "metadata": {},
   "outputs": [
    {
     "name": "stdout",
     "output_type": "stream",
     "text": [
      "30.232597864768685\n",
      "28.349978540772533\n"
     ]
    }
   ],
   "source": [
    "print(pop_male.mean())\n",
    "print(pop_female.mean())"
   ]
  },
  {
   "cell_type": "code",
   "execution_count": 13,
   "id": "2d5bb1d1-00dd-4397-b656-75bdbc96659d",
   "metadata": {},
   "outputs": [],
   "source": [
    "# creating sample data\n",
    "df.columns\n",
    "sample_male = pop_male.sample(25)\n",
    "sample_female = pop_female.sample(25)"
   ]
  },
  {
   "cell_type": "markdown",
   "id": "fc02d251-da00-458b-a7c3-e60ea33fdca3",
   "metadata": {},
   "source": [
    "<font color=\"red\" size=3><b>Making null and alternate hypothesis</b></font>"
   ]
  },
  {
   "cell_type": "markdown",
   "id": "a24aeadb-c6a7-4ee2-85ff-a013788442df",
   "metadata": {},
   "source": [
    "**Null Hypothesis** The average age of male is similar to the average age of female.<br>\n",
    "**Alternate Hypothesis** The average age of male is greater than the average age of female<br>\n",
    "**alpha** = 0.05"
   ]
  },
  {
   "cell_type": "markdown",
   "id": "80978845-9113-4d38-ad34-375169ad8293",
   "metadata": {},
   "source": [
    "<font color=\"red\" size=3><b>Checking the assumptions</b></font>"
   ]
  },
  {
   "cell_type": "code",
   "execution_count": 14,
   "id": "fd852bbe-0941-4b74-b9dd-fb49b6cf803a",
   "metadata": {},
   "outputs": [
    {
     "name": "stdout",
     "output_type": "stream",
     "text": [
      "ShapiroResult(statistic=0.923462986946106, pvalue=0.06147029250860214)\n",
      "ShapiroResult(statistic=0.9649950861930847, pvalue=0.5225816965103149)\n"
     ]
    }
   ],
   "source": [
    "shapiro_male = shapiro(sample_male)\n",
    "shapiro_female = shapiro(sample_female)\n",
    "print(shapiro_male)\n",
    "print(shapiro_female)"
   ]
  },
  {
   "cell_type": "markdown",
   "id": "ddb8e2c8-68f1-41c0-a148-cf82a9500332",
   "metadata": {},
   "source": [
    "**Since p value if greater than 0.05 it is a normal distribution**"
   ]
  },
  {
   "cell_type": "code",
   "execution_count": 16,
   "id": "3cccf22c-f345-495e-978f-f56ed2716734",
   "metadata": {},
   "outputs": [
    {
     "name": "stdout",
     "output_type": "stream",
     "text": [
      "LeveneResult(statistic=0.8982185061882123, pvalue=0.3480070464674708)\n"
     ]
    }
   ],
   "source": [
    "levene_test = levene(sample_male, sample_female)\n",
    "print(levene_test)"
   ]
  },
  {
   "cell_type": "markdown",
   "id": "c6eb3ce6-0721-4eac-8eeb-5b573be09da2",
   "metadata": {},
   "source": [
    "**Since p value if greater than 0.05 variance of sample male is equivalent to variance of sample female.**"
   ]
  },
  {
   "cell_type": "markdown",
   "id": "e2ddf356-03e5-4edf-a479-1675554a28ab",
   "metadata": {},
   "source": [
    "<font color=\"red\" size=3><b>Calculating T-statistic</b></font>"
   ]
  },
  {
   "cell_type": "code",
   "execution_count": 18,
   "id": "7c66cb5e-31cd-4e87-ae94-a2f0baac5088",
   "metadata": {},
   "outputs": [
    {
     "name": "stdout",
     "output_type": "stream",
     "text": [
      "0.13509633587131537\n",
      "0.4465503209756955\n"
     ]
    }
   ],
   "source": [
    "import scipy.stats as stats\n",
    "t_stat, p_val = stats.ttest_ind(sample_male, sample_female)\n",
    "print(t_stat)\n",
    "print(p_val/2)"
   ]
  },
  {
   "cell_type": "markdown",
   "id": "6ee2c43c-605c-47ce-a1d4-d9c2a0c0ac67",
   "metadata": {},
   "source": [
    "**Since p-value is greater than alpha we fail to reject null hypothesis.**"
   ]
  },
  {
   "cell_type": "code",
   "execution_count": null,
   "id": "1b6d45c8-df66-4c19-be4b-8875e0519918",
   "metadata": {},
   "outputs": [],
   "source": []
  }
 ],
 "metadata": {
  "kernelspec": {
   "display_name": "Python 3 (ipykernel)",
   "language": "python",
   "name": "python3"
  },
  "language_info": {
   "codemirror_mode": {
    "name": "ipython",
    "version": 3
   },
   "file_extension": ".py",
   "mimetype": "text/x-python",
   "name": "python",
   "nbconvert_exporter": "python",
   "pygments_lexer": "ipython3",
   "version": "3.11.7"
  }
 },
 "nbformat": 4,
 "nbformat_minor": 5
}
