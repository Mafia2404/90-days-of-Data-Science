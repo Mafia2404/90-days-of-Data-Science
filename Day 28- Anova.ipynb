{
 "cells": [
  {
   "cell_type": "markdown",
   "id": "f03e607d-088a-45c8-8b88-7f4e4e91913e",
   "metadata": {},
   "source": [
    "<font color=\"blue\" size=5><b>ANOVA Test</b></font>"
   ]
  },
  {
   "cell_type": "code",
   "execution_count": 3,
   "id": "6ddf63f7-715a-40d2-bdd8-4f86febccb64",
   "metadata": {},
   "outputs": [],
   "source": [
    "import seaborn as sns\n",
    "import pandas as pd\n",
    "from scipy import stats"
   ]
  },
  {
   "cell_type": "markdown",
   "id": "7d0bb8fb-dc74-455b-ac03-c19376bbe49c",
   "metadata": {},
   "source": [
    "**Null hypothesis: There is a significant difference in tip amount by day of the week.**"
   ]
  },
  {
   "cell_type": "code",
   "execution_count": 4,
   "id": "9d72cb75-9c38-4a02-8c4f-56d90c98dcba",
   "metadata": {},
   "outputs": [
    {
     "name": "stdout",
     "output_type": "stream",
     "text": [
      "   total_bill   tip     sex smoker  day    time  size\n",
      "0       16.99  1.01  Female     No  Sun  Dinner     2\n",
      "1       10.34  1.66    Male     No  Sun  Dinner     3\n",
      "2       21.01  3.50    Male     No  Sun  Dinner     3\n",
      "3       23.68  3.31    Male     No  Sun  Dinner     2\n",
      "4       24.59  3.61  Female     No  Sun  Dinner     4\n"
     ]
    }
   ],
   "source": [
    "data = sns.load_dataset('tips')\n",
    "print(data.head())"
   ]
  },
  {
   "cell_type": "code",
   "execution_count": 5,
   "id": "ef2a4d28-428b-4adf-b9fe-986147c88edc",
   "metadata": {},
   "outputs": [
    {
     "name": "stderr",
     "output_type": "stream",
     "text": [
      "C:\\Users\\Paulami Maitra\\AppData\\Local\\Temp\\ipykernel_7440\\974151458.py:1: FutureWarning: The default of observed=False is deprecated and will be changed to True in a future version of pandas. Pass observed=False to retain current behavior or observed=True to adopt the future default and silence this warning.\n",
      "  grouped_data = data.groupby('day')['tip'].apply(list)\n"
     ]
    },
    {
     "data": {
      "text/plain": [
       "day\n",
       "Thur    [4.0, 3.0, 2.71, 3.0, 3.4, 1.83, 5.0, 2.03, 5....\n",
       "Fri     [3.0, 3.5, 1.0, 4.3, 3.25, 4.73, 4.0, 1.5, 3.0...\n",
       "Sat     [3.35, 4.08, 2.75, 2.23, 7.58, 3.18, 2.34, 2.0...\n",
       "Sun     [1.01, 1.66, 3.5, 3.31, 3.61, 4.71, 2.0, 3.12,...\n",
       "Name: tip, dtype: object"
      ]
     },
     "execution_count": 5,
     "metadata": {},
     "output_type": "execute_result"
    }
   ],
   "source": [
    "grouped_data = data.groupby('day')['tip'].apply(list)\n",
    "grouped_data"
   ]
  },
  {
   "cell_type": "code",
   "execution_count": 6,
   "id": "20feaa41-f553-4de1-bd35-a4b0942270b0",
   "metadata": {},
   "outputs": [
    {
     "name": "stdout",
     "output_type": "stream",
     "text": [
      "ANOVA test result: F-statistic = 1.6723551980998699, p-value = 0.1735885553040592\n"
     ]
    }
   ],
   "source": [
    "# perform the ANOVA test\n",
    "f_stat, p_val = stats.f_oneway(*grouped_data)\n",
    "print(f\"ANOVA test result: F-statistic = {f_stat}, p-value = {p_val}\")"
   ]
  },
  {
   "cell_type": "code",
   "execution_count": 7,
   "id": "ae0fef17-3c14-48a7-aeae-3b2cf1e514ce",
   "metadata": {},
   "outputs": [
    {
     "name": "stdout",
     "output_type": "stream",
     "text": [
      "Fail to reject the null hypothesis\n"
     ]
    }
   ],
   "source": [
    "alpha = 0.05\n",
    "if p_val < alpha:\n",
    "    print(\"Reject the null hypothesis\")\n",
    "else:\n",
    "    print(\"Fail to reject the null hypothesis\")"
   ]
  },
  {
   "cell_type": "code",
   "execution_count": null,
   "id": "303bb511-5f0c-4b25-9c35-2f91c5dbe8f7",
   "metadata": {},
   "outputs": [],
   "source": []
  }
 ],
 "metadata": {
  "kernelspec": {
   "display_name": "Python 3 (ipykernel)",
   "language": "python",
   "name": "python3"
  },
  "language_info": {
   "codemirror_mode": {
    "name": "ipython",
    "version": 3
   },
   "file_extension": ".py",
   "mimetype": "text/x-python",
   "name": "python",
   "nbconvert_exporter": "python",
   "pygments_lexer": "ipython3",
   "version": "3.11.7"
  }
 },
 "nbformat": 4,
 "nbformat_minor": 5
}
