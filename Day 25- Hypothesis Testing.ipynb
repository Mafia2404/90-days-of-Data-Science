{
 "cells": [
  {
   "cell_type": "markdown",
   "id": "c90bc867-e1fe-4b6b-ba45-b88df56bb93f",
   "metadata": {},
   "source": [
    "<font color=\"blue\" size=5><b>Hypothesis testing using T-test</b></font>"
   ]
  },
  {
   "cell_type": "code",
   "execution_count": 28,
   "id": "20ff86fe-8305-405c-addc-6e312263417d",
   "metadata": {},
   "outputs": [
    {
     "data": {
      "text/plain": [
       "0.1116757390828102"
      ]
     },
     "execution_count": 28,
     "metadata": {},
     "output_type": "execute_result"
    }
   ],
   "source": [
    "from scipy.stats import t\n",
    "# set t value and degree of freedom\n",
    "t_val = -1.25\n",
    "dof = 24\n",
    "\n",
    "# calculate the cdf value in order to calculate the area\n",
    "cdf_val = t.cdf(t_val, dof)\n",
    "cdf_val"
   ]
  },
  {
   "cell_type": "code",
   "execution_count": 45,
   "id": "ebef2edc-4718-4f62-a202-1ab9a0ef776a",
   "metadata": {},
   "outputs": [],
   "source": [
    "import numpy as np\n",
    "import pandas as pd\n"
   ]
  },
  {
   "cell_type": "code",
   "execution_count": 46,
   "id": "236d52f4-23b7-4fe7-b944-fbef6cb204da",
   "metadata": {},
   "outputs": [
    {
     "data": {
      "text/plain": [
       "Index(['Age', 'Cabin', 'Embarked', 'Fare', 'Name', 'Parch', 'PassengerId',\n",
       "       'Pclass', 'Sex', 'SibSp', 'Ticket', 'Title', 'Family_Size'],\n",
       "      dtype='object')"
      ]
     },
     "execution_count": 46,
     "metadata": {},
     "output_type": "execute_result"
    }
   ],
   "source": [
    "train = pd.read_csv(\"train_clean.csv\").drop(columns=['Survived'])\n",
    "test = pd.read_csv(\"test_clean.csv\")\n",
    "train.columns"
   ]
  },
  {
   "cell_type": "code",
   "execution_count": 47,
   "id": "489c853f-78c6-4528-a53e-ef87ff87cf9f",
   "metadata": {},
   "outputs": [
    {
     "data": {
      "text/plain": [
       "29.56239113827349"
      ]
     },
     "execution_count": 47,
     "metadata": {},
     "output_type": "execute_result"
    }
   ],
   "source": [
    "df = pd.concat([train, test]).sample(1309)\n",
    "#df['Age'].mean()"
   ]
  },
  {
   "cell_type": "code",
   "execution_count": null,
   "id": "f65d6dee-54c1-4538-ace2-6192cf1e57c6",
   "metadata": {},
   "outputs": [],
   "source": [
    "# H0-> Population mean age is 35\n",
    "# Ha-> Population mean age is less than 35"
   ]
  },
  {
   "cell_type": "code",
   "execution_count": 48,
   "id": "74261caf-e9c3-48ed-9bfe-fb124f60ef24",
   "metadata": {},
   "outputs": [],
   "source": [
    "# population data\n",
    "pop = df['Age']\n",
    "pop_mean=35"
   ]
  },
  {
   "cell_type": "code",
   "execution_count": 49,
   "id": "7d268e0d-a98b-4f27-bb1a-8659ff2ca498",
   "metadata": {},
   "outputs": [
    {
     "data": {
      "text/plain": [
       "25"
      ]
     },
     "execution_count": 49,
     "metadata": {},
     "output_type": "execute_result"
    }
   ],
   "source": [
    "# sample data\n",
    "sample_age = pop.sample(25).values\n",
    "sample_age.size"
   ]
  },
  {
   "cell_type": "code",
   "execution_count": 50,
   "id": "0732067d-2a87-46e5-a926-4f3d529ff874",
   "metadata": {},
   "outputs": [
    {
     "name": "stdout",
     "output_type": "stream",
     "text": [
      "ShapiroResult(statistic=0.9302606582641602, pvalue=0.08812181651592255)\n"
     ]
    }
   ],
   "source": [
    "# to check is sample_age follows normal distribution\n",
    "from scipy.stats import shapiro\n",
    "shapiro_age = shapiro(sample_age)\n",
    "print(shapiro_age) # normally distributed"
   ]
  },
  {
   "cell_type": "markdown",
   "id": "0f473670-5887-4a0f-9881-02208b64c4fa",
   "metadata": {},
   "source": [
    "**Interpretation** <br>\n",
    "If p value > 0.05 -> normal distribution <br>\n",
    "If p value > 0.05 -> normal distribution "
   ]
  },
  {
   "cell_type": "code",
   "execution_count": 51,
   "id": "99a31129-978f-49ad-845e-98ecdb287297",
   "metadata": {},
   "outputs": [
    {
     "name": "stdout",
     "output_type": "stream",
     "text": [
      "t-statistic  -4.581607579238909\n",
      "p-value 6.0169345590243434e-05\n"
     ]
    }
   ],
   "source": [
    "import scipy.stats as stats\n",
    "t_statistic, p_value = stats.ttest_1samp(sample_age, pop_mean)\n",
    "# since this is a one tail test we divide the p value by 2\n",
    "print(\"t-statistic \", t_statistic)\n",
    "print(\"p-value\", p_value/2)"
   ]
  },
  {
   "cell_type": "code",
   "execution_count": 52,
   "id": "42aa517f-ee67-4962-9332-b843d09132a2",
   "metadata": {},
   "outputs": [
    {
     "name": "stdout",
     "output_type": "stream",
     "text": [
      "Reject null hypothesis\n"
     ]
    }
   ],
   "source": [
    "alpha = 0.05\n",
    "if p_value < alpha:\n",
    "    print(\"Reject null hypothesis\")\n",
    "else:\n",
    "    print(\"Fail to reject null hypothesis\")"
   ]
  },
  {
   "cell_type": "code",
   "execution_count": null,
   "id": "c35e3eaf-affc-42df-bc64-93b834ff5603",
   "metadata": {},
   "outputs": [],
   "source": []
  }
 ],
 "metadata": {
  "kernelspec": {
   "display_name": "Python 3 (ipykernel)",
   "language": "python",
   "name": "python3"
  },
  "language_info": {
   "codemirror_mode": {
    "name": "ipython",
    "version": 3
   },
   "file_extension": ".py",
   "mimetype": "text/x-python",
   "name": "python",
   "nbconvert_exporter": "python",
   "pygments_lexer": "ipython3",
   "version": "3.11.7"
  }
 },
 "nbformat": 4,
 "nbformat_minor": 5
}
