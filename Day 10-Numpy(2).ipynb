{
 "cells": [
  {
   "cell_type": "markdown",
   "id": "bfb25f07-bd67-4959-b0df-d7e3fb08514f",
   "metadata": {},
   "source": [
    "<font color=\"blue\" size=5><b>Numpy-2</b></font>"
   ]
  },
  {
   "cell_type": "code",
   "execution_count": 1,
   "id": "e7993e54-56e6-4703-be81-eb4fb0488acf",
   "metadata": {},
   "outputs": [],
   "source": [
    "import numpy as np"
   ]
  },
  {
   "cell_type": "code",
   "execution_count": 3,
   "id": "904433cd-70f3-4848-9a48-a0c0141870fd",
   "metadata": {},
   "outputs": [
    {
     "data": {
      "text/plain": [
       "array([[14,  7, 47,  6],\n",
       "       [23, 24, 26, 15],\n",
       "       [31,  6, 29,  2]])"
      ]
     },
     "execution_count": 3,
     "metadata": {},
     "output_type": "execute_result"
    }
   ],
   "source": [
    "a = np.random.randint(1,50,(3,4))\n",
    "a"
   ]
  },
  {
   "cell_type": "markdown",
   "id": "30c10fc2-4268-4174-801d-5514a7a72cd1",
   "metadata": {},
   "source": [
    "<font color=\"red\" size=3><b>Flatten array</b></font>"
   ]
  },
  {
   "cell_type": "code",
   "execution_count": 4,
   "id": "a43edbc2-d15c-4411-a387-f32138662929",
   "metadata": {},
   "outputs": [
    {
     "data": {
      "text/plain": [
       "array([14,  7, 47,  6, 23, 24, 26, 15, 31,  6, 29,  2])"
      ]
     },
     "execution_count": 4,
     "metadata": {},
     "output_type": "execute_result"
    }
   ],
   "source": [
    "a.flatten()"
   ]
  },
  {
   "cell_type": "code",
   "execution_count": 5,
   "id": "1c668bf9-f183-4476-be76-034f2a4486b3",
   "metadata": {},
   "outputs": [
    {
     "data": {
      "text/plain": [
       "array([14,  7, 47,  6, 23, 24, 26, 15, 31,  6, 29,  2])"
      ]
     },
     "execution_count": 5,
     "metadata": {},
     "output_type": "execute_result"
    }
   ],
   "source": [
    "a.reshape(-1)"
   ]
  },
  {
   "cell_type": "markdown",
   "id": "c4899bf2-0337-47b1-9357-1245f3cca2fc",
   "metadata": {},
   "source": [
    "<font color=\"red\" size=3><b>Expands dimension</b></font>"
   ]
  },
  {
   "cell_type": "code",
   "execution_count": 9,
   "id": "7af0d377-9ebc-4216-b534-3b98340d86d0",
   "metadata": {},
   "outputs": [
    {
     "name": "stdout",
     "output_type": "stream",
     "text": [
      "3\n"
     ]
    }
   ],
   "source": [
    "a1 = np.expand_dims(a, axis=0) # adds one dimension to existing dimention\n",
    "print(a1.ndim)"
   ]
  },
  {
   "cell_type": "code",
   "execution_count": 10,
   "id": "0989cee1-344c-4204-bc2e-d53f8a7ff2cb",
   "metadata": {},
   "outputs": [
    {
     "name": "stdout",
     "output_type": "stream",
     "text": [
      "3\n"
     ]
    }
   ],
   "source": [
    "a2 = np.expand_dims(a,axis=1)\n",
    "print(a2.ndim)"
   ]
  },
  {
   "cell_type": "markdown",
   "id": "a08ad5bb-81a1-429d-ac07-225e47406dcb",
   "metadata": {},
   "source": [
    "<font color=\"red\" size=3><b>Reduces dimension</b></font>"
   ]
  },
  {
   "cell_type": "code",
   "execution_count": 13,
   "id": "6cf061b0-224e-4942-9c59-9c88cd80220e",
   "metadata": {},
   "outputs": [
    {
     "name": "stdout",
     "output_type": "stream",
     "text": [
      "2\n"
     ]
    }
   ],
   "source": [
    "a3 = np.squeeze(a1)\n",
    "print(a3.ndim)"
   ]
  },
  {
   "cell_type": "markdown",
   "id": "381c29ab-6e11-4672-9b07-192118c9b473",
   "metadata": {},
   "source": [
    "<font color=\"red\" size=3><b>Repeats element</b></font>"
   ]
  },
  {
   "cell_type": "code",
   "execution_count": 14,
   "id": "34c7deca-20e8-43f7-b180-2d45d154df46",
   "metadata": {},
   "outputs": [
    {
     "data": {
      "text/plain": [
       "array([1, 1, 1, 2, 2, 2, 3, 3, 3, 4, 4, 4])"
      ]
     },
     "execution_count": 14,
     "metadata": {},
     "output_type": "execute_result"
    }
   ],
   "source": [
    "b = np.array([1,2,3,4])\n",
    "np.repeat(b,3) # repeats each element n times"
   ]
  },
  {
   "cell_type": "markdown",
   "id": "80f77fab-5e65-40cd-ac48-6e4741d43e0c",
   "metadata": {},
   "source": [
    "<font color=\"red\" size=3><b>Rolls elements of array</b></font>"
   ]
  },
  {
   "cell_type": "code",
   "execution_count": 16,
   "id": "c7bab7c2-18e8-46e8-af56-11535363a25b",
   "metadata": {},
   "outputs": [
    {
     "data": {
      "text/plain": [
       "array([3, 4, 1, 2])"
      ]
     },
     "execution_count": 16,
     "metadata": {},
     "output_type": "execute_result"
    }
   ],
   "source": [
    "np.roll(b, 2) # similar to shift operator"
   ]
  },
  {
   "cell_type": "markdown",
   "id": "6010fe90-b588-48db-9d36-9b2b8c1503f3",
   "metadata": {},
   "source": [
    "<font color=\"red\" size=3><b>Converts elements of array to diagonal matrix</b></font>"
   ]
  },
  {
   "cell_type": "code",
   "execution_count": 17,
   "id": "867a3069-d323-4625-b149-9330836b85fc",
   "metadata": {},
   "outputs": [
    {
     "data": {
      "text/plain": [
       "array([[1, 0, 0, 0],\n",
       "       [0, 2, 0, 0],\n",
       "       [0, 0, 3, 0],\n",
       "       [0, 0, 0, 4]])"
      ]
     },
     "execution_count": 17,
     "metadata": {},
     "output_type": "execute_result"
    }
   ],
   "source": [
    "np.diag(b)"
   ]
  },
  {
   "cell_type": "markdown",
   "id": "7e3652e6-4cb0-4b1e-b265-e1e5e739638b",
   "metadata": {},
   "source": [
    "<font color=\"red\" size=3><b>Binary operations</b></font>"
   ]
  },
  {
   "cell_type": "code",
   "execution_count": 18,
   "id": "ac4297dc-64ec-4b5a-804d-e574852a6b74",
   "metadata": {},
   "outputs": [
    {
     "data": {
      "text/plain": [
       "array([[2, 4, 1, 1],\n",
       "       [4, 6, 4, 5],\n",
       "       [7, 9, 6, 1]])"
      ]
     },
     "execution_count": 18,
     "metadata": {},
     "output_type": "execute_result"
    }
   ],
   "source": [
    "arr1 = np.random.randint(1,10,(3,4))\n",
    "arr1"
   ]
  },
  {
   "cell_type": "code",
   "execution_count": 19,
   "id": "d90886f1-5b37-45b5-bd8d-80e10645958e",
   "metadata": {},
   "outputs": [
    {
     "data": {
      "text/plain": [
       "array([[17,  8, 12,  5],\n",
       "       [10, 11, 15, 17],\n",
       "       [17,  9,  6, 12]])"
      ]
     },
     "execution_count": 19,
     "metadata": {},
     "output_type": "execute_result"
    }
   ],
   "source": [
    "arr2 = np.random.randint(5,20,(3,4))\n",
    "arr2"
   ]
  },
  {
   "cell_type": "code",
   "execution_count": 20,
   "id": "e5231ffc-1147-487a-9fdb-a08fc5f27efd",
   "metadata": {},
   "outputs": [
    {
     "data": {
      "text/plain": [
       "array([[0, 0, 0, 1],\n",
       "       [0, 2, 4, 1],\n",
       "       [1, 9, 6, 0]])"
      ]
     },
     "execution_count": 20,
     "metadata": {},
     "output_type": "execute_result"
    }
   ],
   "source": [
    "arr1 &arr2"
   ]
  },
  {
   "cell_type": "code",
   "execution_count": 21,
   "id": "eb913177-fb87-43a9-baf3-65f89d02bd32",
   "metadata": {},
   "outputs": [
    {
     "data": {
      "text/plain": [
       "array([[19, 12, 13,  5],\n",
       "       [14, 15, 15, 21],\n",
       "       [23,  9,  6, 13]])"
      ]
     },
     "execution_count": 21,
     "metadata": {},
     "output_type": "execute_result"
    }
   ],
   "source": [
    "arr1 | arr2"
   ]
  },
  {
   "cell_type": "code",
   "execution_count": 22,
   "id": "3c7696bc-a5bf-4059-ae91-be774b1d9c25",
   "metadata": {},
   "outputs": [
    {
     "data": {
      "text/plain": [
       "array([[ -3,  -5,  -2,  -2],\n",
       "       [ -5,  -7,  -5,  -6],\n",
       "       [ -8, -10,  -7,  -2]])"
      ]
     },
     "execution_count": 22,
     "metadata": {},
     "output_type": "execute_result"
    }
   ],
   "source": [
    "~arr1"
   ]
  },
  {
   "cell_type": "markdown",
   "id": "cd6b4d74-4682-43cf-873c-3e35b686fd93",
   "metadata": {},
   "source": [
    "<font color=\"red\" size=3><b>String operations</b></font>"
   ]
  },
  {
   "cell_type": "code",
   "execution_count": 23,
   "id": "df2738c4-545e-4f66-a6c3-8d1ae0903f4a",
   "metadata": {},
   "outputs": [
    {
     "data": {
      "text/plain": [
       "array(['paul', 'maitra'], dtype='<U6')"
      ]
     },
     "execution_count": 23,
     "metadata": {},
     "output_type": "execute_result"
    }
   ],
   "source": [
    "arr = np.array(['paul','maitra'])\n",
    "arr"
   ]
  },
  {
   "cell_type": "code",
   "execution_count": 24,
   "id": "3b1c7c80-6900-47ab-be4b-aa8018ed1138",
   "metadata": {},
   "outputs": [
    {
     "data": {
      "text/plain": [
       "array(['PAUL', 'MAITRA'], dtype='<U6')"
      ]
     },
     "execution_count": 24,
     "metadata": {},
     "output_type": "execute_result"
    }
   ],
   "source": [
    "np.char.upper(arr)"
   ]
  },
  {
   "cell_type": "code",
   "execution_count": 25,
   "id": "6e4ed7bb-42c2-4603-b634-8d0119c6ea9b",
   "metadata": {},
   "outputs": [
    {
     "data": {
      "text/plain": [
       "array(['Paul', 'Maitra'], dtype='<U6')"
      ]
     },
     "execution_count": 25,
     "metadata": {},
     "output_type": "execute_result"
    }
   ],
   "source": [
    "np.char.capitalize(arr)"
   ]
  },
  {
   "cell_type": "code",
   "execution_count": 26,
   "id": "f446f550-d321-46b5-bd50-dcc54a24a447",
   "metadata": {},
   "outputs": [
    {
     "data": {
      "text/plain": [
       "array(['Paul', 'Maitra'], dtype='<U6')"
      ]
     },
     "execution_count": 26,
     "metadata": {},
     "output_type": "execute_result"
    }
   ],
   "source": [
    "np.char.title(arr)"
   ]
  },
  {
   "cell_type": "markdown",
   "id": "22026aaf-ae87-4b5c-a83e-b52b501d415c",
   "metadata": {},
   "source": [
    "<font color=\"red\" size=3><b>Aggregate functions</b></font>"
   ]
  },
  {
   "cell_type": "code",
   "execution_count": 28,
   "id": "6b906931-2302-41b8-81fe-a4ea11a3dd03",
   "metadata": {},
   "outputs": [
    {
     "data": {
      "text/plain": [
       "4.166666666666667"
      ]
     },
     "execution_count": 28,
     "metadata": {},
     "output_type": "execute_result"
    }
   ],
   "source": [
    "np.mean(arr1)"
   ]
  },
  {
   "cell_type": "code",
   "execution_count": 61,
   "id": "c127df7d-4a18-4db7-adda-3cf9cc1d4547",
   "metadata": {},
   "outputs": [
    {
     "data": {
      "text/plain": [
       "4.0"
      ]
     },
     "execution_count": 61,
     "metadata": {},
     "output_type": "execute_result"
    }
   ],
   "source": [
    "np.median(arr1)"
   ]
  },
  {
   "cell_type": "code",
   "execution_count": 31,
   "id": "8033ff56-2bfa-4509-b5e8-6d73c55479d8",
   "metadata": {},
   "outputs": [
    {
     "data": {
      "text/plain": [
       "2.4776781245530843"
      ]
     },
     "execution_count": 31,
     "metadata": {},
     "output_type": "execute_result"
    }
   ],
   "source": [
    "np.std(arr1)"
   ]
  },
  {
   "cell_type": "code",
   "execution_count": 60,
   "id": "0a7b50a7-b0db-4a38-873d-56165fa3b970",
   "metadata": {},
   "outputs": [
    {
     "data": {
      "text/plain": [
       "50"
      ]
     },
     "execution_count": 60,
     "metadata": {},
     "output_type": "execute_result"
    }
   ],
   "source": [
    "np.sum(arr1)"
   ]
  },
  {
   "cell_type": "markdown",
   "id": "d02e908e-c36e-4167-acdb-71d6e949b1c4",
   "metadata": {},
   "source": [
    "<font color=\"red\" size=3><b>Mathematical functions</b></font>"
   ]
  },
  {
   "cell_type": "code",
   "execution_count": 33,
   "id": "7201f452-0a7a-4bf9-b5cb-d1cbc5eb6d2f",
   "metadata": {},
   "outputs": [
    {
     "data": {
      "text/plain": [
       "array([[-0.41614684, -0.65364362,  0.54030231,  0.54030231],\n",
       "       [-0.65364362,  0.96017029, -0.65364362,  0.28366219],\n",
       "       [ 0.75390225, -0.91113026,  0.96017029,  0.54030231]])"
      ]
     },
     "execution_count": 33,
     "metadata": {},
     "output_type": "execute_result"
    }
   ],
   "source": [
    "np.cos(arr1)"
   ]
  },
  {
   "cell_type": "code",
   "execution_count": 34,
   "id": "1c646e46-876c-4bf2-85e6-2d3651957ae1",
   "metadata": {},
   "outputs": [
    {
     "data": {
      "text/plain": [
       "array([[ 0.90929743, -0.7568025 ,  0.84147098,  0.84147098],\n",
       "       [-0.7568025 , -0.2794155 , -0.7568025 , -0.95892427],\n",
       "       [ 0.6569866 ,  0.41211849, -0.2794155 ,  0.84147098]])"
      ]
     },
     "execution_count": 34,
     "metadata": {},
     "output_type": "execute_result"
    }
   ],
   "source": [
    "np.sin(arr1)"
   ]
  },
  {
   "cell_type": "code",
   "execution_count": 62,
   "id": "5d28226b-72d2-46fd-a805-64f80d9f7680",
   "metadata": {},
   "outputs": [
    {
     "data": {
      "text/plain": [
       "array([[-2.18503986,  1.15782128,  1.55740772,  1.55740772],\n",
       "       [ 1.15782128, -0.29100619,  1.15782128, -3.38051501],\n",
       "       [ 0.87144798, -0.45231566, -0.29100619,  1.55740772]])"
      ]
     },
     "execution_count": 62,
     "metadata": {},
     "output_type": "execute_result"
    }
   ],
   "source": [
    "np.tan(arr1)"
   ]
  },
  {
   "cell_type": "markdown",
   "id": "4ef7fa64-46ce-40b0-87ea-fba8e52d6c93",
   "metadata": {},
   "source": [
    "<font color=\"red\" size=3><b>Searching and sorting</b></font>"
   ]
  },
  {
   "cell_type": "code",
   "execution_count": 35,
   "id": "7c4abcab-f918-4f56-a3e4-f529708066f5",
   "metadata": {},
   "outputs": [],
   "source": [
    "aa = np.array([1,5,8,3,87,45,21,54])\n"
   ]
  },
  {
   "cell_type": "code",
   "execution_count": 36,
   "id": "4ca5900b-93e8-463e-8932-08a4717d00f4",
   "metadata": {},
   "outputs": [
    {
     "data": {
      "text/plain": [
       "array([ 1,  3,  5,  8, 21, 45, 54, 87])"
      ]
     },
     "execution_count": 36,
     "metadata": {},
     "output_type": "execute_result"
    }
   ],
   "source": [
    "np.sort(aa)"
   ]
  },
  {
   "cell_type": "code",
   "execution_count": 37,
   "id": "d94d5144-eee8-414b-8691-8181aa2a7a00",
   "metadata": {},
   "outputs": [
    {
     "data": {
      "text/plain": [
       "1"
      ]
     },
     "execution_count": 37,
     "metadata": {},
     "output_type": "execute_result"
    }
   ],
   "source": [
    "np.searchsorted(aa,2) # returns the index where the ele should be inserted"
   ]
  },
  {
   "cell_type": "code",
   "execution_count": 38,
   "id": "ceddb388-6c3f-458c-8873-540e16283bb2",
   "metadata": {},
   "outputs": [
    {
     "data": {
      "text/plain": [
       "8"
      ]
     },
     "execution_count": 38,
     "metadata": {},
     "output_type": "execute_result"
    }
   ],
   "source": [
    "np.count_nonzero(aa)"
   ]
  },
  {
   "cell_type": "markdown",
   "id": "d8abb39b-9ffa-429f-a6b9-4cb587bca392",
   "metadata": {},
   "source": [
    "<font color=\"red\" size=3><b>Conditional Selection</b></font>"
   ]
  },
  {
   "cell_type": "code",
   "execution_count": 40,
   "id": "4b6daecc-deda-4ac3-ab77-535bab9bd13c",
   "metadata": {},
   "outputs": [
    {
     "name": "stdout",
     "output_type": "stream",
     "text": [
      "[ 1  5  8  3 87 45 21 54]\n"
     ]
    },
    {
     "data": {
      "text/plain": [
       "(array([4, 5, 6, 7], dtype=int64),)"
      ]
     },
     "execution_count": 40,
     "metadata": {},
     "output_type": "execute_result"
    }
   ],
   "source": [
    "print(aa)\n",
    "np.where(aa>20) # gives the indexes where the condition satisfies"
   ]
  },
  {
   "cell_type": "code",
   "execution_count": 42,
   "id": "d3d40c56-2d53-4a74-931d-64d39c60d937",
   "metadata": {},
   "outputs": [
    {
     "data": {
      "text/plain": [
       "array([87, 45, 21, 54])"
      ]
     },
     "execution_count": 42,
     "metadata": {},
     "output_type": "execute_result"
    }
   ],
   "source": [
    "np.extract(aa>20,aa) #returns the elements which satisfies the condition"
   ]
  },
  {
   "cell_type": "code",
   "execution_count": 63,
   "id": "415ba481-c435-4908-a2b4-2aac4035a21f",
   "metadata": {},
   "outputs": [
    {
     "data": {
      "text/plain": [
       "array([87, 45, 21, 54])"
      ]
     },
     "execution_count": 63,
     "metadata": {},
     "output_type": "execute_result"
    }
   ],
   "source": [
    "aa[aa>20]"
   ]
  },
  {
   "cell_type": "code",
   "execution_count": 64,
   "id": "6b0f5d32-d729-4453-b856-ad2fcb7ddbfc",
   "metadata": {},
   "outputs": [
    {
     "data": {
      "text/plain": [
       "array([87, 45, 21, 54])"
      ]
     },
     "execution_count": 64,
     "metadata": {},
     "output_type": "execute_result"
    }
   ],
   "source": [
    "aa[np.where(aa>20)]"
   ]
  },
  {
   "cell_type": "markdown",
   "id": "d4393594-9dae-4480-a483-50fbc9f4779c",
   "metadata": {},
   "source": [
    "<font color=\"red\" size=3><b>Copy and view</b></font>"
   ]
  },
  {
   "cell_type": "code",
   "execution_count": 49,
   "id": "412c2e55-ba67-4d2b-a80e-2e945797515c",
   "metadata": {},
   "outputs": [
    {
     "name": "stdout",
     "output_type": "stream",
     "text": [
      "Before aa  [ 1  5  8  3 87 45 21 54]\n",
      "Before bb  [ 1  5  8  3 87 45 21 54]\n",
      "After aa  [ 1  5  8  3 87 45 21 54]\n",
      "After bb  [11  5  8  3 87 45 21 54]\n"
     ]
    }
   ],
   "source": [
    "print('Before aa ',aa)\n",
    "bb = np.copy(aa) # deep copy\n",
    "print('Before bb ',bb)\n",
    "bb[0] = 11\n",
    "print('After aa ', aa)\n",
    "print('After bb ',bb)"
   ]
  },
  {
   "cell_type": "code",
   "execution_count": 51,
   "id": "ed0e543e-9757-49fa-a8a4-a1d1b4f19e6f",
   "metadata": {},
   "outputs": [
    {
     "name": "stdout",
     "output_type": "stream",
     "text": [
      "Before aa  [ 1  5  8  3 87 45 21 54]\n",
      "Before bb  [ 1  5  8  3 87 45 21 54]\n",
      "After aa  [11  5  8  3 87 45 21 54]\n",
      "After bb  [11  5  8  3 87 45 21 54]\n"
     ]
    }
   ],
   "source": [
    "print('Before aa ',aa)\n",
    "bb = aa.view() # shallow copy\n",
    "print('Before bb ',bb)\n",
    "bb[0] = 11\n",
    "print('After aa ', aa)\n",
    "print('After bb ',bb)"
   ]
  },
  {
   "cell_type": "markdown",
   "id": "b7d4a12f-2720-40a5-8f28-56f597cb5257",
   "metadata": {},
   "source": [
    "<font color=\"red\" size=3><b>Matrix library in numPy</b></font>"
   ]
  },
  {
   "cell_type": "code",
   "execution_count": 52,
   "id": "8b58d8f1-8927-447f-93d2-913bb1579a4e",
   "metadata": {},
   "outputs": [],
   "source": [
    "import numpy.matlib as nm"
   ]
  },
  {
   "cell_type": "code",
   "execution_count": 53,
   "id": "1991ad61-7844-4a0d-9afc-0e0ca87c18cb",
   "metadata": {},
   "outputs": [
    {
     "data": {
      "text/plain": [
       "matrix([[0., 0., 0., 0., 0.]])"
      ]
     },
     "execution_count": 53,
     "metadata": {},
     "output_type": "execute_result"
    }
   ],
   "source": [
    "nm.zeros(5)"
   ]
  },
  {
   "cell_type": "code",
   "execution_count": 54,
   "id": "ff9957d9-98ef-4c18-9bc9-b1137d0772e1",
   "metadata": {},
   "outputs": [
    {
     "data": {
      "text/plain": [
       "matrix([[1., 1., 1., 1.],\n",
       "        [1., 1., 1., 1.],\n",
       "        [1., 1., 1., 1.]])"
      ]
     },
     "execution_count": 54,
     "metadata": {},
     "output_type": "execute_result"
    }
   ],
   "source": [
    "nm.ones((3,4))"
   ]
  },
  {
   "cell_type": "code",
   "execution_count": 56,
   "id": "c611a098-6e14-48fd-b8ee-b27a36667d9e",
   "metadata": {},
   "outputs": [
    {
     "data": {
      "text/plain": [
       "matrix([[1., 0.],\n",
       "        [0., 1.]])"
      ]
     },
     "execution_count": 56,
     "metadata": {},
     "output_type": "execute_result"
    }
   ],
   "source": [
    "nm.eye(2)"
   ]
  },
  {
   "cell_type": "markdown",
   "id": "1750a084-1368-422a-b926-160da48f2925",
   "metadata": {},
   "source": [
    "<font color=\"red\" size=3><b>Fancy indexing</b></font>"
   ]
  },
  {
   "cell_type": "code",
   "execution_count": 57,
   "id": "1b51cdf4-e333-47c6-ab9c-d79d2d470006",
   "metadata": {},
   "outputs": [
    {
     "name": "stdout",
     "output_type": "stream",
     "text": [
      "[1 2 3 4 5 6 7 8 9]\n"
     ]
    }
   ],
   "source": [
    "x = np.array([1,2,3,4,5,6,7,8,9])\n",
    "print(x)"
   ]
  },
  {
   "cell_type": "code",
   "execution_count": 59,
   "id": "42aa5e63-6ef6-4651-8e1a-368e2a431e0c",
   "metadata": {},
   "outputs": [
    {
     "name": "stdout",
     "output_type": "stream",
     "text": [
      "[[4 5 2]\n",
      " [8 9 6]]\n"
     ]
    }
   ],
   "source": [
    "ind = np.array([[3,4,1],[7,8,5]])\n",
    "print(x[ind])"
   ]
  },
  {
   "cell_type": "markdown",
   "id": "b85db77a-67e3-4121-bdb5-33678968a928",
   "metadata": {},
   "source": [
    "<font color=\"red\" size=3><b>Infinite values</b></font>"
   ]
  },
  {
   "cell_type": "code",
   "execution_count": 69,
   "id": "440da607-dfcf-46f8-9264-5de88234bf76",
   "metadata": {},
   "outputs": [
    {
     "data": {
      "text/plain": [
       "array([  1.,   2.,  inf, -inf,  nan,   3.])"
      ]
     },
     "execution_count": 69,
     "metadata": {},
     "output_type": "execute_result"
    }
   ],
   "source": [
    "# an array with finite and infinite values\n",
    "arr = np.array([1, 2, np.inf, -np.inf, np.nan, 3])\n",
    "arr"
   ]
  },
  {
   "cell_type": "code",
   "execution_count": 70,
   "id": "57b6d224-28cb-4f93-8fd6-84a48c4f10e9",
   "metadata": {},
   "outputs": [
    {
     "data": {
      "text/plain": [
       "array([ True,  True, False, False, False,  True])"
      ]
     },
     "execution_count": 70,
     "metadata": {},
     "output_type": "execute_result"
    }
   ],
   "source": [
    "# gets a boolean array indicating which elements are finite\n",
    "mask = np.isfinite(arr)\n",
    "mask"
   ]
  },
  {
   "cell_type": "code",
   "execution_count": 71,
   "id": "43dbc252-1284-4709-b244-646d5f6acf9c",
   "metadata": {},
   "outputs": [
    {
     "data": {
      "text/plain": [
       "array([1., 2., 3.])"
      ]
     },
     "execution_count": 71,
     "metadata": {},
     "output_type": "execute_result"
    }
   ],
   "source": [
    "# use the mask to filter the finite values\n",
    "arr[mask]"
   ]
  },
  {
   "cell_type": "markdown",
   "id": "5280ba45-1e4b-49f8-ada1-de9a21b6a3de",
   "metadata": {},
   "source": [
    "<font color=\"red\" size=3><b>Difference between infinite and nan values</b></font>"
   ]
  },
  {
   "cell_type": "code",
   "execution_count": 72,
   "id": "ca3b80bf-e048-4e5e-82bc-38f223d7cecb",
   "metadata": {},
   "outputs": [
    {
     "name": "stdout",
     "output_type": "stream",
     "text": [
      "Logarithm of 0: -inf\n",
      "Square root of -1: nan\n",
      "Is -inf NaN? False\n",
      "Is NaN NaN? True\n",
      "Is -inf infinite? True\n",
      "Is NaN infinite? False\n"
     ]
    },
    {
     "name": "stderr",
     "output_type": "stream",
     "text": [
      "C:\\Users\\Paulami Maitra\\AppData\\Local\\Temp\\ipykernel_7676\\632881166.py:1: RuntimeWarning: divide by zero encountered in log\n",
      "  log_zero = np.log(0)\n",
      "C:\\Users\\Paulami Maitra\\AppData\\Local\\Temp\\ipykernel_7676\\632881166.py:4: RuntimeWarning: invalid value encountered in sqrt\n",
      "  nan_example = np.sqrt(-1)\n"
     ]
    }
   ],
   "source": [
    "log_zero = np.log(0)\n",
    "print(\"Logarithm of 0:\", log_zero)  \n",
    "\n",
    "nan_example = np.sqrt(-1)\n",
    "print(\"Square root of -1:\", nan_example) \n",
    "\n",
    "# Check if they are NaN\n",
    "print(\"Is -inf NaN?\", np.isnan(log_zero))  \n",
    "print(\"Is NaN NaN?\", np.isnan(nan_example))  \n",
    "\n",
    "# Check if they are infinite\n",
    "print(\"Is -inf infinite?\", np.isinf(log_zero))  \n",
    "print(\"Is NaN infinite?\", np.isinf(nan_example))  "
   ]
  },
  {
   "cell_type": "markdown",
   "id": "12192c82-d4b4-484e-b75f-fffd44182db1",
   "metadata": {},
   "source": [
    "<font color=\"red\" size=3><b>Split in NumPy </b></font>"
   ]
  },
  {
   "cell_type": "code",
   "execution_count": 74,
   "id": "1229d559-029a-4c8e-a097-405309b086dd",
   "metadata": {},
   "outputs": [
    {
     "name": "stdout",
     "output_type": "stream",
     "text": [
      "[[ 1  2  3 45]\n",
      " [ 6  7  8 99]]\n"
     ]
    }
   ],
   "source": [
    "a = np.array([1,2,3,45,6,7,8,99]).reshape(2,4)\n",
    "print(a)"
   ]
  },
  {
   "cell_type": "code",
   "execution_count": 76,
   "id": "7854943f-8dda-44cf-a7c1-30e351549036",
   "metadata": {},
   "outputs": [
    {
     "data": {
      "text/plain": [
       "[array([[1, 2],\n",
       "        [6, 7]]),\n",
       " array([[ 3, 45],\n",
       "        [ 8, 99]])]"
      ]
     },
     "execution_count": 76,
     "metadata": {},
     "output_type": "execute_result"
    }
   ],
   "source": [
    "# horizontal split\n",
    "np.hsplit(a,2) #splits column wise"
   ]
  },
  {
   "cell_type": "code",
   "execution_count": 77,
   "id": "037132f5-0054-47dc-ab7f-6c6958ab38bc",
   "metadata": {},
   "outputs": [
    {
     "data": {
      "text/plain": [
       "[array([[ 1,  2,  3, 45]]), array([[ 6,  7,  8, 99]])]"
      ]
     },
     "execution_count": 77,
     "metadata": {},
     "output_type": "execute_result"
    }
   ],
   "source": [
    "# vertical split\n",
    "np.vsplit(a,2) #splits row wise"
   ]
  },
  {
   "cell_type": "markdown",
   "id": "9294114c-9f21-454b-ae80-f903ac7bacc7",
   "metadata": {},
   "source": [
    "<font color=\"red\" size=3><b>Stack in NumPy </b></font>"
   ]
  },
  {
   "cell_type": "code",
   "execution_count": 78,
   "id": "09ff2581-92e1-4502-85b9-cd4b0397a14d",
   "metadata": {},
   "outputs": [],
   "source": [
    "b = np.array([[1,2,3,4],[15,16,17,18]])"
   ]
  },
  {
   "cell_type": "code",
   "execution_count": 79,
   "id": "297f63a7-656d-4561-8a5c-84c484df1d0a",
   "metadata": {},
   "outputs": [
    {
     "name": "stdout",
     "output_type": "stream",
     "text": [
      "[[ 1  2  3 45]\n",
      " [ 6  7  8 99]]\n",
      "[[ 1  2  3  4]\n",
      " [15 16 17 18]]\n"
     ]
    }
   ],
   "source": [
    "print(a)\n",
    "print(b)"
   ]
  },
  {
   "cell_type": "code",
   "execution_count": 83,
   "id": "9499946a-186a-435f-93e4-9a5052a97921",
   "metadata": {},
   "outputs": [
    {
     "name": "stdout",
     "output_type": "stream",
     "text": [
      "[[ 1  2  3 45  1  2  3  4]\n",
      " [ 6  7  8 99 15 16 17 18]]\n"
     ]
    }
   ],
   "source": [
    "# horizontal stack\n",
    "print(np.hstack((a,b)))"
   ]
  },
  {
   "cell_type": "code",
   "execution_count": 84,
   "id": "f928815c-afd1-4c3a-92d5-729991e660c3",
   "metadata": {},
   "outputs": [
    {
     "name": "stdout",
     "output_type": "stream",
     "text": [
      "[[ 1  2  3 45]\n",
      " [ 6  7  8 99]\n",
      " [ 1  2  3  4]\n",
      " [15 16 17 18]]\n"
     ]
    }
   ],
   "source": [
    "# vertical stack\n",
    "print(np.vstack((a,b)))"
   ]
  }
 ],
 "metadata": {
  "kernelspec": {
   "display_name": "Python 3 (ipykernel)",
   "language": "python",
   "name": "python3"
  },
  "language_info": {
   "codemirror_mode": {
    "name": "ipython",
    "version": 3
   },
   "file_extension": ".py",
   "mimetype": "text/x-python",
   "name": "python",
   "nbconvert_exporter": "python",
   "pygments_lexer": "ipython3",
   "version": "3.11.7"
  }
 },
 "nbformat": 4,
 "nbformat_minor": 5
}
