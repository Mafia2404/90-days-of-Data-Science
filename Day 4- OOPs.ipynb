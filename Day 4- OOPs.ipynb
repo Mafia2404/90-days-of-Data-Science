{
 "cells": [
  {
   "cell_type": "markdown",
   "id": "4c06ecad-313d-49a4-b405-0ab0d3d76312",
   "metadata": {},
   "source": [
    "<font color=\"blue\" size=5><b>Python Basics- 4</b></font>"
   ]
  },
  {
   "cell_type": "markdown",
   "id": "3634547c-d7d3-48dc-8237-0b01e26f5dd9",
   "metadata": {},
   "source": [
    "<font color=\"red\" size=3><b>Generator Functions</b></font>"
   ]
  },
  {
   "cell_type": "code",
   "execution_count": 13,
   "id": "9d259299-d14f-453a-9919-4b593c1adadb",
   "metadata": {},
   "outputs": [
    {
     "name": "stdout",
     "output_type": "stream",
     "text": [
      "<class 'generator'>\n",
      "0\n",
      "1\n",
      "1\n",
      "2\n",
      "3\n"
     ]
    }
   ],
   "source": [
    "# Generator functions : The generator function yields items one at a time, generating them as needed.\n",
    "# The normal function builds the entire list in memory and then returns it\n",
    "def fib(n):\n",
    "    a,b=0,1\n",
    "    for i in range(n):\n",
    "        yield a # generators are created using the yield keyword\n",
    "        a,b=b,a+b\n",
    "\n",
    "fib_iter=fib(5)\n",
    "# generators are iterators\n",
    "print(type(fib_iter))\n",
    "for i in fib_iter:\n",
    "    print(i)"
   ]
  },
  {
   "cell_type": "code",
   "execution_count": 12,
   "id": "e40fa288-f8f8-4662-a12e-693ad6797863",
   "metadata": {},
   "outputs": [
    {
     "name": "stdout",
     "output_type": "stream",
     "text": [
      "0\n",
      "1\n",
      "2\n",
      "3\n",
      "4\n"
     ]
    }
   ],
   "source": [
    "# range is a generator function\n",
    "for i in range(5):\n",
    "    print(i)\n",
    "  "
   ]
  },
  {
   "cell_type": "code",
   "execution_count": 7,
   "id": "5cb3a7f8-484c-48e7-bed6-3dba561c814d",
   "metadata": {},
   "outputs": [
    {
     "name": "stdout",
     "output_type": "stream",
     "text": [
      "0\n",
      "1\n",
      "1\n",
      "2\n",
      "2\n"
     ]
    }
   ],
   "source": [
    "def fib():\n",
    "    a,b=0,1\n",
    "    while True:\n",
    "        yield a\n",
    "        a,b=b,a+1\n",
    "obj=fib()\n",
    "type(obj)\n",
    "for i in range(5):\n",
    "    print(next(obj)) # next can only be applied on iterators"
   ]
  },
  {
   "cell_type": "markdown",
   "id": "94f7f070-784a-4ae6-8f90-8e4b1a0360fb",
   "metadata": {},
   "source": [
    "<font color=\"red\" size=3><b>Object Oriented Programming</b></font>"
   ]
  },
  {
   "cell_type": "markdown",
   "id": "abc867c4-65dd-40ca-aaab-fa3a9e2e77b7",
   "metadata": {},
   "source": [
    "<h4>Class:</h4> A blueprint for creating objects that defines attributes and methods. <br>\n",
    "\n",
    "<h4>Object:</h4> An instance of a class containing actual data and behavior. <br>\n",
    "\n",
    "<h4>Polymorphism:</h4> The ability to use a common interface for different underlying data types, allowing functions to use objects of different classes interchangeably.\n",
    "\n",
    "<h4>Inheritance:</h4> A mechanism where a new class derives attributes and methods from an existing class.\n",
    "\n",
    "<h4>Encapsulation:</h4> Bundling data and methods within a class to restrict direct access to some components.\n",
    "\n",
    "<h4>Abstraction:</h4> Hiding the complex implementation details and showing only the essential features of an object."
   ]
  },
  {
   "cell_type": "markdown",
   "id": "104c61e6-c6d9-4614-99f9-d320243ad0a6",
   "metadata": {},
   "source": [
    "**class and object**"
   ]
  },
  {
   "cell_type": "code",
   "execution_count": 19,
   "id": "6a886ee4-a37b-4413-8575-e4aa9e85edfd",
   "metadata": {},
   "outputs": [
    {
     "name": "stdout",
     "output_type": "stream",
     "text": [
      "<class '__main__.new'>\n"
     ]
    }
   ],
   "source": [
    "# class creation\n",
    "class new:\n",
    "    pass\n",
    "\n",
    "# object creation\n",
    "a = new()\n",
    "print(type(a))"
   ]
  },
  {
   "cell_type": "code",
   "execution_count": null,
   "id": "4f192bdc-fc50-4ca1-b185-d5333ef28360",
   "metadata": {},
   "outputs": [],
   "source": [
    "class Cat:\n",
    "    def __init__(self, name, color): # init is a constructor which is automatically called during instance creation\n",
    "        self.name = name\n",
    "        self.color = color\n",
    "\n",
    "    def meow(self):\n",
    "        print(f\"{self.name} the {self.color} cat says meow!\") # self is a reference to the current instance of the class. \n",
    "        # It is used to access variables and methods associated with the object itself\n",
    "        # Similar to this pointer in C++\n",
    "\n",
    "# creating multiple instances of Cat\n",
    "cat1 = Cat(\"Whiskers\", \"white\")\n",
    "cat2 = Cat(\"Shadow\", \"black\")\n",
    "\n",
    "# using instance methods\n",
    "cat1.meow()  \n",
    "cat2.meow()  \n"
   ]
  },
  {
   "cell_type": "code",
   "execution_count": 18,
   "id": "9840d18f-28f0-4aca-9a7b-01c187e499e9",
   "metadata": {},
   "outputs": [
    {
     "name": "stdout",
     "output_type": "stream",
     "text": [
      "Roll no 4 has opted for Psychology\n"
     ]
    }
   ],
   "source": [
    "class clg:\n",
    "    def __init__(paul, roll, sub): \n",
    "        paul.roll1 = roll\n",
    "        paul.sub1 = sub\n",
    "        \n",
    "    def show(paul):\n",
    "        print(f\"Roll no {paul.roll1} has opted for {paul.sub1}\")\n",
    "        \n",
    "ana=clg(4,\"Psychology\")\n",
    "ana.show()"
   ]
  },
  {
   "cell_type": "markdown",
   "id": "f1509d62-0f21-49ac-b5ad-dce0a1f73834",
   "metadata": {},
   "source": [
    "**Polymorphism**"
   ]
  },
  {
   "cell_type": "code",
   "execution_count": 42,
   "id": "d370c147-08c1-4243-ab3f-b048b45a5b19",
   "metadata": {},
   "outputs": [
    {
     "name": "stdout",
     "output_type": "stream",
     "text": [
      "This is syllabus of sub1\n",
      "None\n",
      "This is syllabus of sub2\n",
      "None\n"
     ]
    }
   ],
   "source": [
    "# Allows us to perform single action in different ways\n",
    "class sub1:\n",
    "    def syllabus(self):\n",
    "        print(f\"This is syllabus of sub1\")\n",
    "class sub2:\n",
    "    def syllabus(self):\n",
    "        print(f\"This is syllabus of sub2\")\n",
    "a = sub1()\n",
    "b = sub2()\n",
    "list = [a,b] \n",
    "for i in list:\n",
    "    print(i.syllabus())\n"
   ]
  },
  {
   "cell_type": "code",
   "execution_count": 43,
   "id": "70f33262-b0bc-4137-9386-386d0778c8c0",
   "metadata": {},
   "outputs": [
    {
     "name": "stdout",
     "output_type": "stream",
     "text": [
      "5\n",
      "4\n",
      "2\n"
     ]
    }
   ],
   "source": [
    "# built-in polymorphism\n",
    "print(len(\"Hello\"))  \n",
    "print(len([1, 2, 3, 4])) \n",
    "print(len({\"key1\": \"value1\", \"key2\": \"value2\"}))  \n"
   ]
  },
  {
   "cell_type": "markdown",
   "id": "8f752edb-b7a7-479e-90a9-1047e1d1d52e",
   "metadata": {},
   "source": [
    "**Inheritance**"
   ]
  },
  {
   "cell_type": "code",
   "execution_count": 49,
   "id": "26a95dcd-59b4-4858-8d69-283aa7c7b6cb",
   "metadata": {},
   "outputs": [
    {
     "data": {
      "text/plain": [
       "'This is Test class'"
      ]
     },
     "execution_count": 49,
     "metadata": {},
     "output_type": "execute_result"
    }
   ],
   "source": [
    "class Test:\n",
    "    def call(self):\n",
    "        return \"This is Test class\"\n",
    "\n",
    "class Child_test(Test):\n",
    "    pass\n",
    "\n",
    "child_test_obj = Child_test()\n",
    "child_test_obj.call()"
   ]
  },
  {
   "cell_type": "code",
   "execution_count": 52,
   "id": "73b23aa1-3cc9-41e3-ad48-8bd2a977da30",
   "metadata": {},
   "outputs": [
    {
     "name": "stdout",
     "output_type": "stream",
     "text": [
      "Test\n",
      "Test 1\n",
      "Test 2\n"
     ]
    }
   ],
   "source": [
    "# multilevel inheritance\n",
    "class Test:\n",
    "    def call(self):\n",
    "        print(\"Test\")\n",
    "class Test1(Test):\n",
    "    def call1(self):\n",
    "        print(\"Test 1\")\n",
    "class Test2(Test1):\n",
    "    def call2(self):\n",
    "        print(\"Test 2\")\n",
    "\n",
    "test_obj2 = Test2()\n",
    "test_obj2.call()\n",
    "test_obj2.call1()\n",
    "test_obj2.call2()"
   ]
  },
  {
   "cell_type": "code",
   "execution_count": 54,
   "id": "30f26d29-e559-425c-8166-3abeb0c56c9c",
   "metadata": {},
   "outputs": [
    {
     "name": "stdout",
     "output_type": "stream",
     "text": [
      "Parent 1\n",
      "Parent 2\n"
     ]
    }
   ],
   "source": [
    "# multiple inheritence\n",
    "class Parent1:\n",
    "    def call1(self):\n",
    "        print(\"Parent 1\")\n",
    "class Parent2:\n",
    "    def call2(self):\n",
    "        print(\"Parent 2\")\n",
    "class Child(Parent1, Parent2):\n",
    "    pass\n",
    "\n",
    "obj = Child()\n",
    "obj.call1()\n",
    "obj.call2()"
   ]
  },
  {
   "cell_type": "markdown",
   "id": "cd1fced3-d441-491a-8f21-106be5bb6d5f",
   "metadata": {},
   "source": [
    "**Encapsulation**"
   ]
  },
  {
   "cell_type": "code",
   "execution_count": 58,
   "id": "95a44798-e50e-4694-853b-29e51187a9fc",
   "metadata": {},
   "outputs": [
    {
     "name": "stdout",
     "output_type": "stream",
     "text": [
      "Paul\n",
      "Anuj\n"
     ]
    },
    {
     "ename": "AttributeError",
     "evalue": "'Student' object has no attribute '__name'",
     "output_type": "error",
     "traceback": [
      "\u001b[1;31m---------------------------------------------------------------------------\u001b[0m",
      "\u001b[1;31mAttributeError\u001b[0m                            Traceback (most recent call last)",
      "Cell \u001b[1;32mIn[58], line 16\u001b[0m\n\u001b[0;32m     14\u001b[0m a\u001b[38;5;241m.\u001b[39mset_name(\u001b[38;5;124m'\u001b[39m\u001b[38;5;124mAnuj\u001b[39m\u001b[38;5;124m'\u001b[39m)\n\u001b[0;32m     15\u001b[0m a\u001b[38;5;241m.\u001b[39mget_name()\n\u001b[1;32m---> 16\u001b[0m a\u001b[38;5;241m.\u001b[39m__name\n",
      "\u001b[1;31mAttributeError\u001b[0m: 'Student' object has no attribute '__name'"
     ]
    }
   ],
   "source": [
    "class Student:\n",
    "    def __init__(self, name, roll, sub): # __memberName : double underscore is used to set private member\n",
    "        self.__name = name\n",
    "        self.__roll = roll\n",
    "        self.__sub = sub\n",
    "\n",
    "    def set_name(self, name): # since no underscore is used, it's public \n",
    "        self.__name = name\n",
    "    def get_name(self):\n",
    "        print(self.__name)\n",
    "\n",
    "a = Student('Paul',23,'CS')\n",
    "a.get_name()\n",
    "a.set_name('Anuj')\n",
    "a.get_name()\n",
    "a.__name # not avilable to user"
   ]
  },
  {
   "cell_type": "markdown",
   "id": "d6eaa9ff-cc98-4c79-93cb-9e2df10b9e9a",
   "metadata": {},
   "source": [
    "**Abstraction**"
   ]
  },
  {
   "cell_type": "code",
   "execution_count": 67,
   "id": "ab364fe0-1513-4319-be8b-18d2a70c09c1",
   "metadata": {},
   "outputs": [
    {
     "name": "stdout",
     "output_type": "stream",
     "text": [
      "This is func 1\n"
     ]
    }
   ],
   "source": [
    "import abc\n",
    "class abstract: # this is just a blue-print\n",
    "    @abc.abstractmethod\n",
    "    def func1(self):\n",
    "        pass\n",
    "\n",
    "    @abc.abstractmethod\n",
    "    def func2(self):\n",
    "        pass\n",
    "\n",
    "class new(abstract):\n",
    "    def func1(self): \n",
    "        print(\"This is func 1\")\n",
    "    def func2(self):\n",
    "        print(\"This is func 2\")\n",
    "\n",
    "a = new()\n",
    "a.func1()"
   ]
  },
  {
   "cell_type": "markdown",
   "id": "30dd4297-691d-4fba-96d7-e4d61d12cb8f",
   "metadata": {},
   "source": [
    "**Decorator**"
   ]
  },
  {
   "cell_type": "code",
   "execution_count": 63,
   "id": "0723364c-11a0-4730-8a6d-3553cfad0fa1",
   "metadata": {},
   "outputs": [
    {
     "name": "stdout",
     "output_type": "stream",
     "text": [
      "Something is happening before the function is called.\n",
      "Hello!\n",
      "Something is happening after the function is called.\n"
     ]
    }
   ],
   "source": [
    "# Decorators are higher order functions that allows you to modify or \n",
    "# extend the behavior of functions or methods without changing their actual code\n",
    "def my_decorator(func):\n",
    "    def wrapper():\n",
    "        print(\"Something is happening before the function is called.\")\n",
    "        func()\n",
    "        print(\"Something is happening after the function is called.\")\n",
    "    return wrapper\n",
    "\n",
    "@my_decorator\n",
    "def say_hello():\n",
    "    print(\"Hello!\")\n",
    "\n",
    "say_hello()\n"
   ]
  },
  {
   "cell_type": "code",
   "execution_count": 70,
   "id": "796fb813-ff5e-489c-a386-7c0990fe8555",
   "metadata": {},
   "outputs": [
    {
     "name": "stdout",
     "output_type": "stream",
     "text": [
      "Before the function\n",
      "5\n",
      "After the function\n"
     ]
    }
   ],
   "source": [
    "def deco(func):\n",
    "    def inner(*args): #*args allows you to pass a variable number of positional arguments to a function.\n",
    "        print(\"Before the function\")\n",
    "        func(*args)\n",
    "        print(\"After the function\")\n",
    "    return inner\n",
    "\n",
    "@deco\n",
    "def add(a,b):\n",
    "    print(a+b)\n",
    "\n",
    "add(2,3)\n",
    "\n"
   ]
  },
  {
   "cell_type": "markdown",
   "id": "cc59cbc9-06a1-41a1-adf3-85219adc4353",
   "metadata": {},
   "source": [
    "**Class Method**"
   ]
  },
  {
   "cell_type": "code",
   "execution_count": 90,
   "id": "e29efe88-9a72-449b-8ade-4400fb07e5c2",
   "metadata": {},
   "outputs": [
    {
     "name": "stdout",
     "output_type": "stream",
     "text": [
      "987654321\n",
      "abc\n",
      "abc@gmail.com\n",
      "Course name is  Python\n",
      "Type of detail is  <class '__main__.student'>\n",
      "Paul paul@gmail.com 987654321\n",
      "Course name is  Java\n",
      "Type of s1 is  <class '__main__.student'>\n"
     ]
    },
    {
     "ename": "AttributeError",
     "evalue": "type object 'student' has no attribute 'change_no'",
     "output_type": "error",
     "traceback": [
      "\u001b[1;31m---------------------------------------------------------------------------\u001b[0m",
      "\u001b[1;31mAttributeError\u001b[0m                            Traceback (most recent call last)",
      "Cell \u001b[1;32mIn[90], line 42\u001b[0m\n\u001b[0;32m     39\u001b[0m \u001b[38;5;28mprint\u001b[39m(\u001b[38;5;124m\"\u001b[39m\u001b[38;5;124mType of s1 is \u001b[39m\u001b[38;5;124m\"\u001b[39m,\u001b[38;5;28mtype\u001b[39m(s1))\n\u001b[0;32m     41\u001b[0m \u001b[38;5;28mdelattr\u001b[39m(student, \u001b[38;5;124m\"\u001b[39m\u001b[38;5;124mchange_no\u001b[39m\u001b[38;5;124m\"\u001b[39m) \u001b[38;5;66;03m# deletes any attribute of class /instance\u001b[39;00m\n\u001b[1;32m---> 42\u001b[0m student\u001b[38;5;241m.\u001b[39mchange_no(\u001b[38;5;241m56789\u001b[39m)\n",
      "\u001b[1;31mAttributeError\u001b[0m: type object 'student' has no attribute 'change_no'"
     ]
    }
   ],
   "source": [
    "# Class methods are methods that are bound to the class and not the instance of the class.\n",
    "class student:\n",
    "    ph_no = 123456789 # class variable is shared by all instances\n",
    "\n",
    "    def __init__(self, name, email):\n",
    "        self.name = name\n",
    "        self.email = email\n",
    "        \n",
    "    @classmethod # it is a way of overloading __init__() \n",
    "    def change_no(cls, mobile):  # the first argument is a reference to a class\n",
    "        cls.ph_no=mobile\n",
    "\n",
    "    @classmethod\n",
    "    def details(cls, name, email):\n",
    "        return cls(name, email)\n",
    "\n",
    "    def student_details(self): # by default, the first argument is a reference to an instance\n",
    "        print(self.name, self.email, student.ph_no)\n",
    "\n",
    "\n",
    "# adding external function as a class function\n",
    "def course_details(cls,course_name):\n",
    "    print(\"Course name is \", course_name)\n",
    "student.course_details = classmethod(course_details)\n",
    "\n",
    "student.change_no(987654321)\n",
    "print(student.ph_no)\n",
    "\n",
    "detail = student.details(\"abc\",\"abc@gmail.com\")\n",
    "print(detail.name)\n",
    "print(detail.email)\n",
    "detail.course_details(\"Python\")\n",
    "print(\"Type of detail is \",type(detail))\n",
    "\n",
    "s1 = student(\"Paul\",\"paul@gmail.com\")\n",
    "s1.student_details()\n",
    "s1.course_details(\"Java\")\n",
    "print(\"Type of s1 is \",type(s1))\n",
    "\n",
    "delattr(student, \"change_no\") # deletes any attribute of class /instance\n",
    "student.change_no(56789)"
   ]
  },
  {
   "cell_type": "markdown",
   "id": "bd7dc249-65bc-4ee3-b4b1-6fbe00580b1e",
   "metadata": {},
   "source": [
    "**Static Method**"
   ]
  },
  {
   "cell_type": "code",
   "execution_count": 92,
   "id": "f34e2aff-dd24-45d9-8107-d054cf08c217",
   "metadata": {},
   "outputs": [
    {
     "name": "stdout",
     "output_type": "stream",
     "text": [
      "Dheeraj\n"
     ]
    }
   ],
   "source": [
    "class course:\n",
    "    def stud_details(self, name, mail):\n",
    "        self.name = name\n",
    "        self.mail = mail\n",
    "\n",
    "    @staticmethod\n",
    "    def mentor_class(mentor): # no reference is needed\n",
    "        print(mentor)\n",
    "\n",
    "course.mentor_class(\"Dheeraj\")"
   ]
  },
  {
   "cell_type": "code",
   "execution_count": 93,
   "id": "5faba841-ad3f-4b22-b3f3-d4702af409bf",
   "metadata": {},
   "outputs": [
    {
     "name": "stdout",
     "output_type": "stream",
     "text": [
      "Model: Toyota, Year: 2010\n",
      "Model: Honda, Year: 2015\n",
      "2\n",
      "Model: Ford, Year: 2018\n",
      "3\n",
      "True\n",
      "False\n"
     ]
    }
   ],
   "source": [
    "class Car:\n",
    "    num_cars = 0  # Class attribute to keep track of the number of cars\n",
    "\n",
    "    def __init__(self, model, year):\n",
    "        self.model = model  # Instance attribute\n",
    "        self.year = year    # Instance attribute\n",
    "        Car.num_cars += 1   # Increment the class attribute for each new car instance\n",
    "\n",
    "    # Instance method\n",
    "    def display_info(self):\n",
    "        return f\"Model: {self.model}, Year: {self.year}\"\n",
    "\n",
    "    # Class method\n",
    "    @classmethod\n",
    "    def get_num_cars(cls):\n",
    "        return cls.num_cars\n",
    "\n",
    "    # Class method acting as an alternative constructor\n",
    "    @classmethod\n",
    "    def from_string(cls, car_string):\n",
    "        model, year = car_string.split('-')\n",
    "        return cls(model, int(year))\n",
    "\n",
    "    # Static method\n",
    "    @staticmethod\n",
    "    def is_valid_year(year):\n",
    "        return 1886 <= year <= 2024\n",
    "\n",
    "# Using instance methods\n",
    "car1 = Car(\"Toyota\", 2010)\n",
    "car2 = Car(\"Honda\", 2015)\n",
    "\n",
    "print(car1.display_info())  \n",
    "print(car2.display_info())  \n",
    "\n",
    "# Using class methods\n",
    "print(Car.get_num_cars())  \n",
    "\n",
    "car3 = Car.from_string(\"Ford-2018\")\n",
    "print(car3.display_info())  \n",
    "print(Car.get_num_cars())   \n",
    "\n",
    "# Using static methods\n",
    "print(Car.is_valid_year(2010))  \n",
    "print(Car.is_valid_year(1800)) \n"
   ]
  },
  {
   "cell_type": "markdown",
   "id": "9e721448-63c4-4801-8fa8-893b854c748c",
   "metadata": {},
   "source": [
    "<h4>Instance Methods:</h4> Used for operations related to a specific instance of the class.<br>\n",
    "<h4>Class Methods:</h4> Used for operations related to the class itself, such as maintaining class-wide data or providing alternative constructors.<br>\n",
    "<h4>Static Methods:</h4> Used for utility functions that are logically related to the class but do not need to access class or instance data."
   ]
  }
 ],
 "metadata": {
  "kernelspec": {
   "display_name": "Python 3 (ipykernel)",
   "language": "python",
   "name": "python3"
  },
  "language_info": {
   "codemirror_mode": {
    "name": "ipython",
    "version": 3
   },
   "file_extension": ".py",
   "mimetype": "text/x-python",
   "name": "python",
   "nbconvert_exporter": "python",
   "pygments_lexer": "ipython3",
   "version": "3.11.7"
  }
 },
 "nbformat": 4,
 "nbformat_minor": 5
}
