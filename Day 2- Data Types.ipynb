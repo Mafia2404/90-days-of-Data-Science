{
 "cells": [
  {
   "cell_type": "markdown",
   "id": "c12fc169-c378-49cf-a440-cbacaf9933cf",
   "metadata": {},
   "source": [
    "<font color=\"blue\" size=5><b>Python Basics- 2</b></font>"
   ]
  },
  {
   "cell_type": "markdown",
   "id": "2d1ab46c-8686-4273-a388-e2adfcb763e5",
   "metadata": {},
   "source": [
    "<font color=\"red\" size=3><b>Data Types</b></font>"
   ]
  },
  {
   "cell_type": "markdown",
   "id": "2116e290-841e-4d81-ba84-3b519452ab86",
   "metadata": {},
   "source": [
    "| Sno | DataType |\n",
    "|----|---|\n",
    "| 1  | Numbers\n",
    "| 2  | Strings\n",
    "| 3  | Lists \n",
    "| 4  | Tuples\n",
    "| 5  | Sets\n",
    "| 6  | Dictionaries\n"
   ]
  },
  {
   "cell_type": "markdown",
   "id": "0e14cc07-bbdd-49e6-9fe9-f76552ae20e7",
   "metadata": {},
   "source": [
    "<font color=\"red\" size=3><b>Numbers</b></font>"
   ]
  },
  {
   "cell_type": "code",
   "execution_count": 1,
   "id": "c05f68cb-173d-4f07-89ff-2c6bcdef507f",
   "metadata": {},
   "outputs": [
    {
     "name": "stdout",
     "output_type": "stream",
     "text": [
      "10\n"
     ]
    }
   ],
   "source": [
    "a = 10\n",
    "print(a)"
   ]
  },
  {
   "cell_type": "code",
   "execution_count": 5,
   "id": "18972b15-caa4-4dfe-9eae-e30336ad5039",
   "metadata": {},
   "outputs": [
    {
     "name": "stdout",
     "output_type": "stream",
     "text": [
      "3.0\n",
      "6\n"
     ]
    }
   ],
   "source": [
    "# type conversion\n",
    "a = float(3)\n",
    "b = int(6.9)\n",
    "print(a)\n",
    "print(b)"
   ]
  },
  {
   "cell_type": "markdown",
   "id": "e8b182e2-6ccb-480f-a11f-9e0de9048181",
   "metadata": {},
   "source": [
    "<font color=\"red\" size=3><b>Strings</b></font>"
   ]
  },
  {
   "cell_type": "code",
   "execution_count": 6,
   "id": "634cf920-5b98-4376-b523-d1df1a581570",
   "metadata": {},
   "outputs": [
    {
     "name": "stdout",
     "output_type": "stream",
     "text": [
      "Have a nice day.\n"
     ]
    }
   ],
   "source": [
    "x = \"Have \"\n",
    "y = \"a nice \"\n",
    "z = \"day.\"\n",
    "print(x+y+z) #concatenation"
   ]
  },
  {
   "cell_type": "code",
   "execution_count": 11,
   "id": "b7c4563d-c025-43e0-9be6-28c452c9840b",
   "metadata": {},
   "outputs": [
    {
     "name": "stdout",
     "output_type": "stream",
     "text": [
      "AppleAppleApple\n"
     ]
    }
   ],
   "source": [
    "a = \"Apple\"\n",
    "print(a*3) "
   ]
  },
  {
   "cell_type": "code",
   "execution_count": 16,
   "id": "a5076afa-060e-4b08-810d-0250d1fd6c42",
   "metadata": {},
   "outputs": [
    {
     "name": "stdout",
     "output_type": "stream",
     "text": [
      "l\n"
     ]
    }
   ],
   "source": [
    "# indexing\n",
    "a = \"Apple\"\n",
    "print(a[3]) "
   ]
  },
  {
   "cell_type": "code",
   "execution_count": 9,
   "id": "f6136448-23cc-4304-b607-1d23b43186e6",
   "metadata": {},
   "outputs": [
    {
     "name": "stdout",
     "output_type": "stream",
     "text": [
      "bcdef\n",
      "abcdefgh\n",
      "defgh\n"
     ]
    }
   ],
   "source": [
    "# slicing (positive indexing)\n",
    "a = \"abcdefgh\"\n",
    "print(a[1:6])\n",
    "print(a[:8])\n",
    "print(a[3:])"
   ]
  },
  {
   "cell_type": "code",
   "execution_count": 10,
   "id": "e2bbc9b0-9d87-4e96-9301-2789562a5a89",
   "metadata": {},
   "outputs": [
    {
     "name": "stdout",
     "output_type": "stream",
     "text": [
      "cdefg\n",
      "fgh\n",
      "abcdefg\n"
     ]
    }
   ],
   "source": [
    "# slicing (negative indexing)\n",
    "a = \"abcdefgh\"\n",
    "print(a[-6:-1])\n",
    "print(a[-3:])\n",
    "print(a[:-1])"
   ]
  },
  {
   "cell_type": "code",
   "execution_count": 13,
   "id": "27ec6b76-7d7f-4738-84a0-e178dd82287a",
   "metadata": {},
   "outputs": [
    {
     "name": "stdout",
     "output_type": "stream",
     "text": [
      "def\n",
      "bdfh\n"
     ]
    }
   ],
   "source": [
    "# using both forward and backward indexing\n",
    "a = \"abcdefgh\"\n",
    "print(a[3:-2])\n",
    "print(a[1::2]) #start end step"
   ]
  },
  {
   "cell_type": "markdown",
   "id": "502e7a5a-9ec2-491a-b15f-52a2b539efc8",
   "metadata": {},
   "source": [
    "<font color=\"red\" size=3><b>Lists</b></font>"
   ]
  },
  {
   "cell_type": "code",
   "execution_count": 15,
   "id": "0d80667b-64f8-474f-b6c5-e8adfd05b2ae",
   "metadata": {},
   "outputs": [
    {
     "name": "stdout",
     "output_type": "stream",
     "text": [
      "[1, 2, 4, 5]\n",
      "[1, 5, 'Robin', 'Ted']\n"
     ]
    }
   ],
   "source": [
    "# initialization\n",
    "lst1 = [1,2,4,5]\n",
    "lst2 = [1,5,\"Robin\",\"Ted\"]\n",
    "print(lst1)\n",
    "print(lst2)"
   ]
  },
  {
   "cell_type": "code",
   "execution_count": 31,
   "id": "6c135493-9238-4c7e-a844-eb57b2e710b8",
   "metadata": {},
   "outputs": [
    {
     "name": "stdout",
     "output_type": "stream",
     "text": [
      "Barney\n",
      "[1, 3, 'Robin', 'Barney']\n"
     ]
    }
   ],
   "source": [
    "# indexing\n",
    "lst = [1,5,\"Robin\",\"Barney\"]\n",
    "print(lst[3])\n",
    "lst[1] = 3\n",
    "print(lst)"
   ]
  },
  {
   "cell_type": "code",
   "execution_count": 39,
   "id": "227a1dd6-9664-483e-b735-a042b2b2e50a",
   "metadata": {},
   "outputs": [
    {
     "name": "stdout",
     "output_type": "stream",
     "text": [
      "['you', 'met']\n",
      "['met', 'you']\n"
     ]
    }
   ],
   "source": [
    "# slicing\n",
    "lst = [\"Have\",\"you\",\"met\",\"Ted\"]\n",
    "print(lst[1:3])\n",
    "print(lst[2:0:-1])"
   ]
  },
  {
   "cell_type": "code",
   "execution_count": 4,
   "id": "6e1a695d-b626-40e5-a487-05651b6eb883",
   "metadata": {},
   "outputs": [
    {
     "name": "stdout",
     "output_type": "stream",
     "text": [
      "[1, 4, 5, 8, 10, 23]\n"
     ]
    }
   ],
   "source": [
    "# sorting\n",
    "lst = [1,10,5,8,23,4]\n",
    "lst.sort()\n",
    "print(lst)"
   ]
  },
  {
   "cell_type": "code",
   "execution_count": 22,
   "id": "e8cd39ca-e255-49fc-ae2a-3c1f7f215f3c",
   "metadata": {},
   "outputs": [
    {
     "name": "stdout",
     "output_type": "stream",
     "text": [
      "[1, 2, 3, 4, 5, 6, 7, 8, 9, 10]\n"
     ]
    }
   ],
   "source": [
    "# extending \n",
    "x = [1,2,3,4,5]\n",
    "y = [6,7,8,9,10]\n",
    "x.extend(y)\n",
    "print(x)"
   ]
  },
  {
   "cell_type": "code",
   "execution_count": 23,
   "id": "5d6b90be-e085-4e0a-b48a-bd33940176fc",
   "metadata": {},
   "outputs": [
    {
     "name": "stdout",
     "output_type": "stream",
     "text": [
      "[1, 2, 3, 4, 5, [6, 7, 8, 9, 10]]\n"
     ]
    }
   ],
   "source": [
    "# appending \n",
    "x = [1,2,3,4,5]\n",
    "y = [6,7,8,9,10]\n",
    "x.append(y)\n",
    "print(x)"
   ]
  },
  {
   "cell_type": "code",
   "execution_count": 28,
   "id": "adef6982-fe1b-4f7e-be1a-513f19e7eb9d",
   "metadata": {},
   "outputs": [
    {
     "name": "stdout",
     "output_type": "stream",
     "text": [
      "5\n",
      "1\n",
      "15\n"
     ]
    }
   ],
   "source": [
    "# some additional functions\n",
    "x = [1,2,3,4,5]\n",
    "print(max(x))\n",
    "print(min(x))\n",
    "print(sum(x))"
   ]
  },
  {
   "cell_type": "markdown",
   "id": "0e12c031-d121-4016-9b0d-0203be8a2223",
   "metadata": {},
   "source": [
    "<font color=\"red\" size=3><b>Tuples</b></font>"
   ]
  },
  {
   "cell_type": "code",
   "execution_count": 29,
   "id": "2d9feec7-77f8-4d69-8a41-aa6f3aedf1e3",
   "metadata": {},
   "outputs": [
    {
     "name": "stdout",
     "output_type": "stream",
     "text": [
      "(1, 2, 3, 4, 5)\n",
      "(1, 2, 'Leonard', 'Sheldon')\n"
     ]
    }
   ],
   "source": [
    "# initializion\n",
    "tup1 = (1,2,3,4,5)\n",
    "tup2 = (1,2, \"Leonard\", \"Sheldon\")\n",
    "print(tup1)\n",
    "print(tup2)"
   ]
  },
  {
   "cell_type": "code",
   "execution_count": 32,
   "id": "6a3c1169-2b90-4001-a10d-91025e58cf47",
   "metadata": {},
   "outputs": [
    {
     "name": "stdout",
     "output_type": "stream",
     "text": [
      "Leonard\n"
     ]
    }
   ],
   "source": [
    "# indexing\n",
    "tup = (1,2, \"Leonard\", \"Sheldon\")\n",
    "print(tup[2])"
   ]
  },
  {
   "cell_type": "code",
   "execution_count": 33,
   "id": "7348610a-bf59-492e-ac28-d3ffb336a746",
   "metadata": {},
   "outputs": [
    {
     "ename": "TypeError",
     "evalue": "'tuple' object does not support item assignment",
     "output_type": "error",
     "traceback": [
      "\u001b[1;31m---------------------------------------------------------------------------\u001b[0m",
      "\u001b[1;31mTypeError\u001b[0m                                 Traceback (most recent call last)",
      "Cell \u001b[1;32mIn[33], line 3\u001b[0m\n\u001b[0;32m      1\u001b[0m \u001b[38;5;66;03m# tuples are immutatble\u001b[39;00m\n\u001b[0;32m      2\u001b[0m tup \u001b[38;5;241m=\u001b[39m (\u001b[38;5;241m1\u001b[39m,\u001b[38;5;241m2\u001b[39m, \u001b[38;5;124m\"\u001b[39m\u001b[38;5;124mLeonard\u001b[39m\u001b[38;5;124m\"\u001b[39m, \u001b[38;5;124m\"\u001b[39m\u001b[38;5;124mSheldon\u001b[39m\u001b[38;5;124m\"\u001b[39m)\n\u001b[1;32m----> 3\u001b[0m tup[\u001b[38;5;241m1\u001b[39m] \u001b[38;5;241m=\u001b[39m \u001b[38;5;241m3\u001b[39m\n\u001b[0;32m      4\u001b[0m \u001b[38;5;28mprint\u001b[39m(tup)\n",
      "\u001b[1;31mTypeError\u001b[0m: 'tuple' object does not support item assignment"
     ]
    }
   ],
   "source": [
    "# tuples are immutatble\n",
    "tup = (1,2, \"Leonard\", \"Sheldon\")\n",
    "tup[1] = 3\n",
    "print(tup)"
   ]
  },
  {
   "cell_type": "code",
   "execution_count": 34,
   "id": "4da68fca-ac06-4134-9d93-1b4123a7bc56",
   "metadata": {},
   "outputs": [
    {
     "name": "stdout",
     "output_type": "stream",
     "text": [
      "('Sheldon', 'Leonard', 2, 1)\n"
     ]
    }
   ],
   "source": [
    "# slicing\n",
    "tup = (1,2, \"Leonard\", \"Sheldon\")\n",
    "print(tup[::-1])"
   ]
  },
  {
   "cell_type": "code",
   "execution_count": 6,
   "id": "b8407a18-a596-4ca2-93d3-fb59b56b3b73",
   "metadata": {},
   "outputs": [
    {
     "name": "stdout",
     "output_type": "stream",
     "text": [
      "(1, [3, 4, 8], 'abc', 'def')\n"
     ]
    }
   ],
   "source": [
    "tup = (1,[3,4,5],'abc','def')\n",
    "tup[1][2]=8\n",
    "print(tup)"
   ]
  },
  {
   "cell_type": "markdown",
   "id": "da016b4d-465e-42ce-9f99-e24aea7a3454",
   "metadata": {},
   "source": [
    "<font color=\"red\" size=3><b>Sets</b></font>"
   ]
  },
  {
   "cell_type": "code",
   "execution_count": 8,
   "id": "1280815c-970b-43a9-993d-d9533e7d17dd",
   "metadata": {},
   "outputs": [
    {
     "name": "stdout",
     "output_type": "stream",
     "text": [
      "{1, 3, 4, 5}\n"
     ]
    }
   ],
   "source": [
    "# initializing\n",
    "s = {1,3,4,1,3,3,5}\n",
    "print(s)"
   ]
  },
  {
   "cell_type": "code",
   "execution_count": 15,
   "id": "93c5fb9c-f763-48bb-819a-f058544f2d5c",
   "metadata": {},
   "outputs": [
    {
     "name": "stdout",
     "output_type": "stream",
     "text": [
      "{1, 2, 3, 4, 5, 6, 7, 8, 9, 10}\n"
     ]
    }
   ],
   "source": [
    "# union\n",
    "a = {1,2,3,4,5,8}\n",
    "b = {6,7,8,9,10}\n",
    "print(a|b)"
   ]
  },
  {
   "cell_type": "code",
   "execution_count": 16,
   "id": "2d0a2669-6349-497d-8cff-008e25e97d8d",
   "metadata": {},
   "outputs": [
    {
     "name": "stdout",
     "output_type": "stream",
     "text": [
      "{8}\n"
     ]
    }
   ],
   "source": [
    "# intersection\n",
    "a = {1,2,3,4,5,8}\n",
    "b = {6,7,8,9,10}\n",
    "print(a&b)"
   ]
  },
  {
   "cell_type": "code",
   "execution_count": 19,
   "id": "9124da26-22c1-49f1-a205-bf2046527700",
   "metadata": {},
   "outputs": [
    {
     "name": "stdout",
     "output_type": "stream",
     "text": [
      "{1, 2, 3, 4}\n",
      "{9, 10, 6, 7}\n"
     ]
    }
   ],
   "source": [
    "# difference\n",
    "a = {1,2,3,4,5,8}\n",
    "b = {5,6,7,8,9,10}\n",
    "print(a-b)\n",
    "print(b-a)"
   ]
  },
  {
   "cell_type": "code",
   "execution_count": 20,
   "id": "bdeeafa5-4d42-49d5-a5d8-43a1abf4951f",
   "metadata": {},
   "outputs": [
    {
     "name": "stdout",
     "output_type": "stream",
     "text": [
      "{1, 2, 3, 4, 6, 7, 9, 10}\n"
     ]
    }
   ],
   "source": [
    "# symmetric difference\n",
    "a = {1,2,3,4,5,8}\n",
    "b = {5,6,7,8,9,10}\n",
    "print(a^b)"
   ]
  },
  {
   "cell_type": "markdown",
   "id": "5f53ceed-c4ca-445e-ba18-6bb3411c14a0",
   "metadata": {},
   "source": [
    "<font color=\"red\" size=3><b>Dictionaries</b></font>"
   ]
  },
  {
   "cell_type": "code",
   "execution_count": 21,
   "id": "4323e444-0908-4095-988d-4ec7af18e089",
   "metadata": {},
   "outputs": [
    {
     "name": "stdout",
     "output_type": "stream",
     "text": [
      "{'a': 1, 'b': 45, 'c': 1}\n"
     ]
    }
   ],
   "source": [
    "# initializing\n",
    "dct = {'a':1, 'b':45, 'c':1}\n",
    "print(dct)"
   ]
  },
  {
   "cell_type": "code",
   "execution_count": 31,
   "id": "fa90ebd9-dbef-4210-8461-562ce3cd9cca",
   "metadata": {},
   "outputs": [
    {
     "name": "stdout",
     "output_type": "stream",
     "text": [
      "{'a': 1, 'b': 45, 'c': 1, 'd': 4}\n",
      "dict_keys(['a', 'b', 'c', 'd'])\n",
      "dict_values([1, 45, 1, 4])\n",
      "dict_items([('a', 1), ('b', 45), ('c', 1), ('d', 4)])\n"
     ]
    }
   ],
   "source": [
    "# updating\n",
    "dct = {'a':1, 'b':45, 'c':1}\n",
    "dct['d'] = 4\n",
    "print(dct)\n",
    "print(dct.keys())\n",
    "print(dct.values())\n",
    "print(dct.items())"
   ]
  },
  {
   "cell_type": "code",
   "execution_count": 32,
   "id": "28075ab2-f1c2-4b8f-b046-c9d6574b8da1",
   "metadata": {},
   "outputs": [
    {
     "name": "stdout",
     "output_type": "stream",
     "text": [
      "{1: None, 2: None, 4: None, 5: None}\n"
     ]
    }
   ],
   "source": [
    "# initializing via keys\n",
    "keys = [1,2,4,5]\n",
    "dct1 = dict.fromkeys(keys)\n",
    "print(dct1)"
   ]
  },
  {
   "cell_type": "code",
   "execution_count": 36,
   "id": "673d9194-65cd-4b56-b5ae-125f56a225f2",
   "metadata": {},
   "outputs": [
    {
     "name": "stdout",
     "output_type": "stream",
     "text": [
      "Deletion of key b-  45\n",
      "{'a': 1, 'c': 1}\n",
      "Deletes item randomly-  ('c', 1)\n"
     ]
    }
   ],
   "source": [
    "# deletion\n",
    "dct = {'a':1, 'b':45, 'c':1}\n",
    "print(\"Deletion of key b- \",dct.pop('b'))\n",
    "print(dct)\n",
    "print(\"Deletes item randomly- \",dct.popitem())"
   ]
  }
 ],
 "metadata": {
  "kernelspec": {
   "display_name": "Python 3 (ipykernel)",
   "language": "python",
   "name": "python3"
  },
  "language_info": {
   "codemirror_mode": {
    "name": "ipython",
    "version": 3
   },
   "file_extension": ".py",
   "mimetype": "text/x-python",
   "name": "python",
   "nbconvert_exporter": "python",
   "pygments_lexer": "ipython3",
   "version": "3.11.7"
  }
 },
 "nbformat": 4,
 "nbformat_minor": 5
}
