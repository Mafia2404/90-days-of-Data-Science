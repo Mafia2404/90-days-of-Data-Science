{
 "cells": [
  {
   "cell_type": "markdown",
   "id": "fed895fc-0bb9-44ba-a4ce-5a5b43737fbf",
   "metadata": {},
   "source": [
    "<font color=\"blue\" size=5><b>Chi-square Test</b></font>"
   ]
  },
  {
   "cell_type": "code",
   "execution_count": 2,
   "id": "6d1a331e-66af-4542-a767-faaa4a6cbd43",
   "metadata": {},
   "outputs": [],
   "source": [
    "import scipy.stats as stat\n",
    "import numpy as np\n",
    "import pandas as pd"
   ]
  },
  {
   "cell_type": "code",
   "execution_count": 8,
   "id": "828cfa8e-11f8-4439-9c9d-e924f0e30733",
   "metadata": {},
   "outputs": [],
   "source": [
    "# No of hours students study daily weekly\n",
    "# Categories=  Mon- Sun\n",
    "expected = [8,7,7,9,6,9,7]\n",
    "observed = [7,9,6,9,9,6,7]"
   ]
  },
  {
   "cell_type": "code",
   "execution_count": 13,
   "id": "5f7f34a8-3e72-4a7d-bee0-3d0e20af7a82",
   "metadata": {},
   "outputs": [
    {
     "data": {
      "text/plain": [
       "12.591587243743977"
      ]
     },
     "execution_count": 13,
     "metadata": {},
     "output_type": "execute_result"
    }
   ],
   "source": [
    "# find the critical-value\n",
    "alpha = 0.05\n",
    "dof = len(expected)-1\n",
    "critical_val = stat.chi2.ppf(1-alpha, dof) # takes confidence interval as input\n",
    "critical_val"
   ]
  },
  {
   "cell_type": "code",
   "execution_count": 14,
   "id": "08f99e5b-5319-4e81-9c57-e8db36fbe734",
   "metadata": {},
   "outputs": [
    {
     "name": "stdout",
     "output_type": "stream",
     "text": [
      "3.3392857142857144 0.7652145330261656\n"
     ]
    }
   ],
   "source": [
    "# Chi-square\n",
    "chi_square_test_statistic, pvalue = stat.chisquare(observed, expected)\n",
    "print(chi_square_test_statistic, pvalue)"
   ]
  },
  {
   "cell_type": "markdown",
   "id": "21aac2d7-bc52-4c26-b166-f116589d513d",
   "metadata": {},
   "source": [
    "**Since chi-square-statistic is less than critical value, we accept the null hypothesis**<br>\n",
    "**Also since p-value is greater than alpha we accept the null-hypothesis**"
   ]
  }
 ],
 "metadata": {
  "kernelspec": {
   "display_name": "Python 3 (ipykernel)",
   "language": "python",
   "name": "python3"
  },
  "language_info": {
   "codemirror_mode": {
    "name": "ipython",
    "version": 3
   },
   "file_extension": ".py",
   "mimetype": "text/x-python",
   "name": "python",
   "nbconvert_exporter": "python",
   "pygments_lexer": "ipython3",
   "version": "3.11.7"
  }
 },
 "nbformat": 4,
 "nbformat_minor": 5
}
